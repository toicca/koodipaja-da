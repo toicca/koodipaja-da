{
 "cells": [
  {
   "attachments": {},
   "cell_type": "markdown",
   "metadata": {},
   "source": [
    "# Koodipaja, 14.12.\n",
    "\n",
    "Pajassa jatketaan Pandasiin ja DataFrameihin tutustumista. Tässä pajassa luodaan aluksi esimerkkinä siistitympi datasetti, jota sitten käytetään Pandasin toimintojen harjoittelussa."
   ]
  },
  {
   "attachments": {},
   "cell_type": "markdown",
   "metadata": {},
   "source": [
    "## Data\n",
    "\n",
    "Helsingin yliopiston fysiikan ainejärjestöjen opiskelijahuoneella mitattiin viiden Kimble pelin heitot taulukkoon, joka on nimetty `kimble_heitot.txt`. Kukin peli on nimetty tiedoston ylimmän rivin mukaan (92, 93, 94, 95, 100), minkä jälkeen alemmat rivit kuvaavat heiton silmälukua. Tarkoituksena on siistiä/analysoida data niin, että peleistä kerätyt heitot yhdistetään yhdeksi 6x6 taulukoksi, jonka sarake kuvaa silmälukua ja rivi kuvaa kuinka usein silmäluvun jälkeen tuli riviä vastaava silmäluku. Esimerkki taulukko näyttäisi siis esimerkiksi tältä:\n",
    "\n",
    "| | 1 | 2 | 3 | 4 | 5 | 6 |\n",
    "|:-|:-|:-|:-|:-|:-|:-|\n",
    "| \"1\" | 4 | 7 | 1 | 6 | 6 | 13 |\n",
    "| \"2\" | 3 | 3 | 3 | 9 | 6 | 4 |\n",
    "| \"3\" | 7 | 5 | 6 | 3 | 6 | 5 |\n",
    "| \"4\" | 5 | 4 | 3 | 5 | 4 | 2 |\n",
    "| \"5\" | 5 | 8 | 7 | 1 | 1 | 5 |\n",
    "| \"6\" | 2 | 2 | 4 | 1 | 0 | 8 |\n",
    "\n",
    "Taulukkoa voisi nyt lukea niin, että \"kun peleissä heitettiin silmäluku 1, niin seuraavaksi heitettiin silmäluku 1 4 kertaa\"."
   ]
  },
  {
   "attachments": {},
   "cell_type": "markdown",
   "metadata": {},
   "source": [
    "### Datan lukeminen\n",
    "\n",
    "Toisin kuin ensimmäisen pajan esimerkissä, data ei ole nyt suoraan `.csv` muodossa, vaan solujen välissä on tyhjää (whitespace). Taulukko ei myöskään ole niin siisti kuin toivoisi, koska peleissä on heitetty eri määrät heittoja, esim. pelissä \"100\" heitettiin vain 302 heittoa ja pelissä \"92\" 455 heittoa. Katsotaan aluksi, miltä tämä näyttää suoraan luettuna:"
   ]
  },
  {
   "cell_type": "code",
   "execution_count": 3,
   "metadata": {},
   "outputs": [
    {
     "data": {
      "text/plain": [
       "(   92   93   94   95  100\n",
       " 0   5  6.0  5.0  5.0  2.0\n",
       " 1   2  1.0  2.0  2.0  6.0\n",
       " 2   3  2.0  5.0  5.0  3.0\n",
       " 3   5  5.0  2.0  4.0  1.0\n",
       " 4   5  2.0  6.0  3.0  1.0,      92  93  94  95  100\n",
       " 450   4 NaN NaN NaN  NaN\n",
       " 451   3 NaN NaN NaN  NaN\n",
       " 452   5 NaN NaN NaN  NaN\n",
       " 453   1 NaN NaN NaN  NaN\n",
       " 454   2 NaN NaN NaN  NaN)"
      ]
     },
     "execution_count": 3,
     "metadata": {},
     "output_type": "execute_result"
    }
   ],
   "source": [
    "import pandas as pd\n",
    "df = pd.read_csv(\"kimble_heitot.txt\", delim_whitespace=True)\n",
    "\n",
    "# Tarkista df alku ja loppupäät:\n",
    "df.head(), df.tail()"
   ]
  },
  {
   "attachments": {},
   "cell_type": "markdown",
   "metadata": {},
   "source": [
    "Kuten printistä näkee, taulukko on täytetty pisimmän pelin mittaiseksi ja lyhyemmät pelit on täytetty `NaN` (Not a Number) arvoilla. Tämä on ongelma, koska Pandas ei osaa käsitellä `NaN` arvoja. Tässä tapauksessa `NaN` arvot voi esimerkiksi korvata nollilla, jotta Pandas osaisi käsitellä taulukkoa. Tämä onnistuu Pandasin `fillna` toiminnolla, joka korvaa `NaN` arvot annetulla arvolla."
   ]
  },
  {
   "cell_type": "code",
   "execution_count": 4,
   "metadata": {},
   "outputs": [
    {
     "data": {
      "text/html": [
       "<div>\n",
       "<style scoped>\n",
       "    .dataframe tbody tr th:only-of-type {\n",
       "        vertical-align: middle;\n",
       "    }\n",
       "\n",
       "    .dataframe tbody tr th {\n",
       "        vertical-align: top;\n",
       "    }\n",
       "\n",
       "    .dataframe thead th {\n",
       "        text-align: right;\n",
       "    }\n",
       "</style>\n",
       "<table border=\"1\" class=\"dataframe\">\n",
       "  <thead>\n",
       "    <tr style=\"text-align: right;\">\n",
       "      <th></th>\n",
       "      <th>92</th>\n",
       "      <th>93</th>\n",
       "      <th>94</th>\n",
       "      <th>95</th>\n",
       "      <th>100</th>\n",
       "    </tr>\n",
       "  </thead>\n",
       "  <tbody>\n",
       "    <tr>\n",
       "      <th>450</th>\n",
       "      <td>4</td>\n",
       "      <td>0.0</td>\n",
       "      <td>0.0</td>\n",
       "      <td>0.0</td>\n",
       "      <td>0.0</td>\n",
       "    </tr>\n",
       "    <tr>\n",
       "      <th>451</th>\n",
       "      <td>3</td>\n",
       "      <td>0.0</td>\n",
       "      <td>0.0</td>\n",
       "      <td>0.0</td>\n",
       "      <td>0.0</td>\n",
       "    </tr>\n",
       "    <tr>\n",
       "      <th>452</th>\n",
       "      <td>5</td>\n",
       "      <td>0.0</td>\n",
       "      <td>0.0</td>\n",
       "      <td>0.0</td>\n",
       "      <td>0.0</td>\n",
       "    </tr>\n",
       "    <tr>\n",
       "      <th>453</th>\n",
       "      <td>1</td>\n",
       "      <td>0.0</td>\n",
       "      <td>0.0</td>\n",
       "      <td>0.0</td>\n",
       "      <td>0.0</td>\n",
       "    </tr>\n",
       "    <tr>\n",
       "      <th>454</th>\n",
       "      <td>2</td>\n",
       "      <td>0.0</td>\n",
       "      <td>0.0</td>\n",
       "      <td>0.0</td>\n",
       "      <td>0.0</td>\n",
       "    </tr>\n",
       "  </tbody>\n",
       "</table>\n",
       "</div>"
      ],
      "text/plain": [
       "     92   93   94   95  100\n",
       "450   4  0.0  0.0  0.0  0.0\n",
       "451   3  0.0  0.0  0.0  0.0\n",
       "452   5  0.0  0.0  0.0  0.0\n",
       "453   1  0.0  0.0  0.0  0.0\n",
       "454   2  0.0  0.0  0.0  0.0"
      ]
     },
     "execution_count": 4,
     "metadata": {},
     "output_type": "execute_result"
    }
   ],
   "source": [
    "df = df.fillna(0)\n",
    "df.tail()"
   ]
  },
  {
   "cell_type": "markdown",
   "metadata": {},
   "source": [
    "Taulukkoon nyt myös eksynyt mukaan desimaalilukuja, joten siisteyden takia vaihdetaan koko taulukko kokonaisluvuiksi:"
   ]
  },
  {
   "cell_type": "code",
   "execution_count": 6,
   "metadata": {},
   "outputs": [
    {
     "data": {
      "text/html": [
       "<div>\n",
       "<style scoped>\n",
       "    .dataframe tbody tr th:only-of-type {\n",
       "        vertical-align: middle;\n",
       "    }\n",
       "\n",
       "    .dataframe tbody tr th {\n",
       "        vertical-align: top;\n",
       "    }\n",
       "\n",
       "    .dataframe thead th {\n",
       "        text-align: right;\n",
       "    }\n",
       "</style>\n",
       "<table border=\"1\" class=\"dataframe\">\n",
       "  <thead>\n",
       "    <tr style=\"text-align: right;\">\n",
       "      <th></th>\n",
       "      <th>92</th>\n",
       "      <th>93</th>\n",
       "      <th>94</th>\n",
       "      <th>95</th>\n",
       "      <th>100</th>\n",
       "    </tr>\n",
       "  </thead>\n",
       "  <tbody>\n",
       "    <tr>\n",
       "      <th>450</th>\n",
       "      <td>4</td>\n",
       "      <td>0</td>\n",
       "      <td>0</td>\n",
       "      <td>0</td>\n",
       "      <td>0</td>\n",
       "    </tr>\n",
       "    <tr>\n",
       "      <th>451</th>\n",
       "      <td>3</td>\n",
       "      <td>0</td>\n",
       "      <td>0</td>\n",
       "      <td>0</td>\n",
       "      <td>0</td>\n",
       "    </tr>\n",
       "    <tr>\n",
       "      <th>452</th>\n",
       "      <td>5</td>\n",
       "      <td>0</td>\n",
       "      <td>0</td>\n",
       "      <td>0</td>\n",
       "      <td>0</td>\n",
       "    </tr>\n",
       "    <tr>\n",
       "      <th>453</th>\n",
       "      <td>1</td>\n",
       "      <td>0</td>\n",
       "      <td>0</td>\n",
       "      <td>0</td>\n",
       "      <td>0</td>\n",
       "    </tr>\n",
       "    <tr>\n",
       "      <th>454</th>\n",
       "      <td>2</td>\n",
       "      <td>0</td>\n",
       "      <td>0</td>\n",
       "      <td>0</td>\n",
       "      <td>0</td>\n",
       "    </tr>\n",
       "  </tbody>\n",
       "</table>\n",
       "</div>"
      ],
      "text/plain": [
       "     92  93  94  95  100\n",
       "450   4   0   0   0    0\n",
       "451   3   0   0   0    0\n",
       "452   5   0   0   0    0\n",
       "453   1   0   0   0    0\n",
       "454   2   0   0   0    0"
      ]
     },
     "execution_count": 6,
     "metadata": {},
     "output_type": "execute_result"
    }
   ],
   "source": [
    "df = df.astype(int)\n",
    "df.tail()"
   ]
  },
  {
   "attachments": {},
   "cell_type": "markdown",
   "metadata": {},
   "source": [
    "## Datan käsittely ja tallennus\n",
    "\n",
    "Nyt kun data on luettu ja siistitty, voidaan siirtyä Pandasin toimintojen harjoitteluun. Tässä harjoituksessa tarkoituksena on tiivistää dataa niin, että saadaan yksi taulukko, jossa on kuvattu kuinka usein kukin silmäluku tuli seuraavaksi silmäluvun jälkeen. Taulukko tulee siis olemaan aluksi kolmiulotteinen, yksi ulottuvuus kuvaa pelinumeroa, yksi nykyistä silmälukua ja yksi tulevaa silmälukua. Tämän jälkeen taulukko tiivistetään yhdeksi taulukoksi, jossa on kuvattu kuinka usein kukin silmäluku tuli seuraavaksi silmäluvun jälkeen ja pelinumero jätetään huomiotta."
   ]
  },
  {
   "attachments": {},
   "cell_type": "markdown",
   "metadata": {},
   "source": [
    "### Numpy-taulukko\n",
    "\n",
    "Käydään nyt kaikki taulukot läpi, ja lasketaan ns. vanhan liiton for-loopilla kuinka usein kukin silmäluku tuli seuraavaksi silmäluvun jälkeen. Ajatuksena on alustaa aluksi haluttu tyhjä 6x6 taulukko, johon sitten lisätään oikeaan kohtaan yksi, kun silmäluku tulee seuraavaksi silmäluvun jälkeen."
   ]
  },
  {
   "cell_type": "code",
   "execution_count": 20,
   "metadata": {},
   "outputs": [
    {
     "data": {
      "text/plain": [
       "array([[39, 49, 63, 56, 49, 91],\n",
       "       [54, 25, 36, 50, 82, 33],\n",
       "       [50, 40, 30, 99, 49, 40],\n",
       "       [67, 38, 96, 32, 53, 46],\n",
       "       [45, 92, 51, 39, 38, 61],\n",
       "       [93, 36, 33, 56, 53, 26]])"
      ]
     },
     "execution_count": 20,
     "metadata": {},
     "output_type": "execute_result"
    }
   ],
   "source": [
    "import numpy as np\n",
    "\n",
    "luvut = np.zeros((6,6), dtype=int) # 6x6 taulukko nollilla (kokonaislukuja)\n",
    "\n",
    "# Käydään läpi kaikki sarakkeet\n",
    "for rivi in df:\n",
    "    # Lähdetään liikkeellee ensimmäisestä rivistä\n",
    "    aikaisempi = df[rivi][0]\n",
    "\n",
    "    for i in df[rivi][1:]:\n",
    "        # Pelien pituus vaihtelee, mutta tiedetään että peli joko päättyy rivin loppuun tai silmälukuun 0\n",
    "        if i == 0:\n",
    "            break\n",
    "\n",
    "        # Kasvatetaan taulukon arvoa yhdellä (indeksi alkavat nollasta)\n",
    "        luvut[aikaisempi-1, i-1] = luvut[aikaisempi-1, i-1] + 1\n",
    "        aikaisempi = i\n",
    "\n",
    "# Lopputulos\n",
    "luvut"
   ]
  },
  {
   "attachments": {},
   "cell_type": "markdown",
   "metadata": {},
   "source": [
    "### Pandas-taulukko ja tallennus\n",
    "\n",
    "Nyt, kun meillä on Numpy-taulukko sen voisi oikeastaan kirjoitaa suoraan tiedostoon ja tallentaa tuloksen Numpyn `np.savetxt` toiminnolla. Tässä harjoituksessa kuitenkin halutaan käyttää Pandasia, joten muutetaan Numpy-taulukko Pandasin DataFrameksi ja käytetään Pandasin `to_csv` toimintoa tiedoston kirjoittamiseen."
   ]
  },
  {
   "cell_type": "code",
   "execution_count": 22,
   "metadata": {},
   "outputs": [
    {
     "data": {
      "text/html": [
       "<div>\n",
       "<style scoped>\n",
       "    .dataframe tbody tr th:only-of-type {\n",
       "        vertical-align: middle;\n",
       "    }\n",
       "\n",
       "    .dataframe tbody tr th {\n",
       "        vertical-align: top;\n",
       "    }\n",
       "\n",
       "    .dataframe thead th {\n",
       "        text-align: right;\n",
       "    }\n",
       "</style>\n",
       "<table border=\"1\" class=\"dataframe\">\n",
       "  <thead>\n",
       "    <tr style=\"text-align: right;\">\n",
       "      <th></th>\n",
       "      <th>1</th>\n",
       "      <th>2</th>\n",
       "      <th>3</th>\n",
       "      <th>4</th>\n",
       "      <th>5</th>\n",
       "      <th>6</th>\n",
       "    </tr>\n",
       "  </thead>\n",
       "  <tbody>\n",
       "    <tr>\n",
       "      <th>1</th>\n",
       "      <td>39</td>\n",
       "      <td>49</td>\n",
       "      <td>63</td>\n",
       "      <td>56</td>\n",
       "      <td>49</td>\n",
       "      <td>91</td>\n",
       "    </tr>\n",
       "    <tr>\n",
       "      <th>2</th>\n",
       "      <td>54</td>\n",
       "      <td>25</td>\n",
       "      <td>36</td>\n",
       "      <td>50</td>\n",
       "      <td>82</td>\n",
       "      <td>33</td>\n",
       "    </tr>\n",
       "    <tr>\n",
       "      <th>3</th>\n",
       "      <td>50</td>\n",
       "      <td>40</td>\n",
       "      <td>30</td>\n",
       "      <td>99</td>\n",
       "      <td>49</td>\n",
       "      <td>40</td>\n",
       "    </tr>\n",
       "    <tr>\n",
       "      <th>4</th>\n",
       "      <td>67</td>\n",
       "      <td>38</td>\n",
       "      <td>96</td>\n",
       "      <td>32</td>\n",
       "      <td>53</td>\n",
       "      <td>46</td>\n",
       "    </tr>\n",
       "    <tr>\n",
       "      <th>5</th>\n",
       "      <td>45</td>\n",
       "      <td>92</td>\n",
       "      <td>51</td>\n",
       "      <td>39</td>\n",
       "      <td>38</td>\n",
       "      <td>61</td>\n",
       "    </tr>\n",
       "    <tr>\n",
       "      <th>6</th>\n",
       "      <td>93</td>\n",
       "      <td>36</td>\n",
       "      <td>33</td>\n",
       "      <td>56</td>\n",
       "      <td>53</td>\n",
       "      <td>26</td>\n",
       "    </tr>\n",
       "  </tbody>\n",
       "</table>\n",
       "</div>"
      ],
      "text/plain": [
       "    1   2   3   4   5   6\n",
       "1  39  49  63  56  49  91\n",
       "2  54  25  36  50  82  33\n",
       "3  50  40  30  99  49  40\n",
       "4  67  38  96  32  53  46\n",
       "5  45  92  51  39  38  61\n",
       "6  93  36  33  56  53  26"
      ]
     },
     "execution_count": 22,
     "metadata": {},
     "output_type": "execute_result"
    }
   ],
   "source": [
    "tulos = pd.DataFrame(luvut, columns=[\"1\", \"2\", \"3\", \"4\", \"5\", \"6\"], index=[\"1\", \"2\", \"3\", \"4\", \"5\", \"6\"])\n",
    "tulos.to_csv(\"kimble_tulos.csv\")\n",
    "tulos"
   ]
  }
 ],
 "metadata": {
  "kernelspec": {
   "display_name": "Python 3",
   "language": "python",
   "name": "python3"
  },
  "language_info": {
   "codemirror_mode": {
    "name": "ipython",
    "version": 3
   },
   "file_extension": ".py",
   "mimetype": "text/x-python",
   "name": "python",
   "nbconvert_exporter": "python",
   "pygments_lexer": "ipython3",
   "version": "3.6.9"
  },
  "orig_nbformat": 4,
  "vscode": {
   "interpreter": {
    "hash": "31f2aee4e71d21fbe5cf8b01ff0e069b9275f58929596ceb00d14d90e3e16cd6"
   }
  }
 },
 "nbformat": 4,
 "nbformat_minor": 2
}
