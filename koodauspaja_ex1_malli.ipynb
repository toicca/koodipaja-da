{
 "cells": [
  {
   "cell_type": "markdown",
   "metadata": {},
   "source": [
    "# Koodipaja, harjoitus 1\n",
    "# Alepat\n",
    "\n",
    "Kauppaketju Alepa on siitä mielenkiintoinen, että sitä ei pahemmin esiinny Helsingin ulkopuolella, missä S-ryhmän Sale-kaupat ovat pääasiallinen \"pieni ja pitkään auki\" -kauppaketju.\n",
    "\n",
    "Fyysikoiden opiskelijahuoneella kerättiin kaikkien Alepojen koordinaatit. Tarkoituksenamme on nyt lukea Alepojen koordinaatit tiedostosta, piirtää ne, tutkia niiden välisiä etäisyyksiä ja tiheyksiä.\n",
    "\n",
    "Täytä koodi toimivaksi kommenttien perusteella."
   ]
  },
  {
   "cell_type": "markdown",
   "metadata": {},
   "source": [
    "## t. 1 Koordinaattien lukeminen tiedostosta\n",
    "\n",
    "Lue tiedosto `alepat.csv` Pandasin dataframeen `df`. Tiedoston ensimmäinen rivi on otsikko, joten se pitää jättää lukematta. Tiedoston muoto on CSV, joten erotinmerkkinä on pilkku. "
   ]
  },
  {
   "cell_type": "code",
   "execution_count": 37,
   "metadata": {},
   "outputs": [
    {
     "data": {
      "text/html": [
       "<div>\n",
       "<style scoped>\n",
       "    .dataframe tbody tr th:only-of-type {\n",
       "        vertical-align: middle;\n",
       "    }\n",
       "\n",
       "    .dataframe tbody tr th {\n",
       "        vertical-align: top;\n",
       "    }\n",
       "\n",
       "    .dataframe thead th {\n",
       "        text-align: right;\n",
       "    }\n",
       "</style>\n",
       "<table border=\"1\" class=\"dataframe\">\n",
       "  <thead>\n",
       "    <tr style=\"text-align: right;\">\n",
       "      <th></th>\n",
       "      <th>Alepa</th>\n",
       "      <th>X</th>\n",
       "      <th>Y</th>\n",
       "    </tr>\n",
       "  </thead>\n",
       "  <tbody>\n",
       "    <tr>\n",
       "      <th>0</th>\n",
       "      <td>Jätkäsaari</td>\n",
       "      <td>24.919</td>\n",
       "      <td>60.160</td>\n",
       "    </tr>\n",
       "    <tr>\n",
       "      <th>1</th>\n",
       "      <td>Perämiehenkatu</td>\n",
       "      <td>24.934</td>\n",
       "      <td>60.159</td>\n",
       "    </tr>\n",
       "    <tr>\n",
       "      <th>2</th>\n",
       "      <td>Viherniemenkatu</td>\n",
       "      <td>24.953</td>\n",
       "      <td>60.180</td>\n",
       "    </tr>\n",
       "    <tr>\n",
       "      <th>3</th>\n",
       "      <td>Kallio</td>\n",
       "      <td>24.947</td>\n",
       "      <td>60.185</td>\n",
       "    </tr>\n",
       "    <tr>\n",
       "      <th>4</th>\n",
       "      <td>Mannerheimintie</td>\n",
       "      <td>24.917</td>\n",
       "      <td>60.189</td>\n",
       "    </tr>\n",
       "  </tbody>\n",
       "</table>\n",
       "</div>"
      ],
      "text/plain": [
       "             Alepa       X       Y\n",
       "0       Jätkäsaari  24.919  60.160\n",
       "1   Perämiehenkatu  24.934  60.159\n",
       "2  Viherniemenkatu  24.953  60.180\n",
       "3           Kallio  24.947  60.185\n",
       "4  Mannerheimintie  24.917  60.189"
      ]
     },
     "execution_count": 37,
     "metadata": {},
     "output_type": "execute_result"
    }
   ],
   "source": [
    "import numpy as np\n",
    "import pandas as pd\n",
    "import matplotlib.pyplot as plt\n",
    "\n",
    "# Lue tiedosto ja tuolosta ensimmäiset rivitb\n",
    "df = pd.read_csv('alepat.csv')\n",
    "df = df.round(3)\n",
    "df.head()"
   ]
  },
  {
   "cell_type": "markdown",
   "metadata": {},
   "source": [
    "## t. 2 Indeksien muuttaminen\n",
    "\n",
    "Alepa-sarake on sinänsä turha, tai sitten jokaisen rivin numeroindeksiä voi pitää turhana. Jokatapauksessa, vaihdetaan indeksi Alepa-sarakkeen arvoiksi."
   ]
  },
  {
   "cell_type": "code",
   "execution_count": 38,
   "metadata": {},
   "outputs": [
    {
     "data": {
      "text/plain": [
       "X    24.947\n",
       "Y    60.185\n",
       "Name: Kallio, dtype: float64"
      ]
     },
     "execution_count": 38,
     "metadata": {},
     "output_type": "execute_result"
    }
   ],
   "source": [
    "# Vaihda indeksi ja tulosta uusi df\n",
    "df = df.set_index(\"Alepa\")\n",
    "df.drop_duplicates(inplace=True)\n",
    "df.loc[\"Kallio\"]"
   ]
  },
  {
   "cell_type": "markdown",
   "metadata": {},
   "source": [
    "## t. 3 Koordinaattien piirtäminen\n",
    "\n",
    "Piirretään nyt Alepojen koordinaatit kartalle joko matplotlibin tai pandasin omien plottausfunktioiden avulla. Voit myös lisätä jokaiselle Alepalle sen nimen pisteen viereen (kummalla tämä onnistuu paremmin?). "
   ]
  },
  {
   "cell_type": "code",
   "execution_count": 39,
   "metadata": {},
   "outputs": [
    {
     "data": {
      "text/plain": [
       "<matplotlib.axes._subplots.AxesSubplot at 0x7f53261d7b70>"
      ]
     },
     "execution_count": 39,
     "metadata": {},
     "output_type": "execute_result"
    },
    {
     "data": {
      "image/png": "[encoded data removed]",
      "text/plain": [
       "<matplotlib.figure.Figure at 0x7f5326198438>"
      ]
     },
     "metadata": {},
     "output_type": "display_data"
    }
   ],
   "source": [
    "# Pandas\n",
    "df.plot.scatter(x='X', y='Y', c='DarkBlue')"
   ]
  },
  {
   "cell_type": "code",
   "execution_count": 43,
   "metadata": {},
   "outputs": [
    {
     "data": {
      "image/png": "[encoded data removed]",
      "text/plain": [
       "<matplotlib.figure.Figure at 0x7f5326129eb8>"
      ]
     },
     "metadata": {},
     "output_type": "display_data"
    }
   ],
   "source": [
    "# Matplotlib\n",
    "fig, ax = plt.subplots(figsize=(10, 10))\n",
    "plt.scatter(df['X'], df['Y'])\n",
    "\n",
    "# Nimet satunnnaisille Alepoille\n",
    "for i, txt in enumerate(df.sample(5).index):\n",
    "    plt.annotate(txt, (df.loc[txt][\"X\"], df.loc[txt][\"Y\"]))\n",
    "\n",
    "plt.show()"
   ]
  },
  {
   "cell_type": "markdown",
   "metadata": {},
   "source": [
    "## t. 4 Etäisyyksien laskeminen\n",
    "\n",
    "Lasketaan nyt jokaisen Alepan etäisyys keskustan Alepaan."
   ]
  },
  {
   "cell_type": "code",
   "execution_count": 41,
   "metadata": {},
   "outputs": [
    {
     "data": {
      "text/html": [
       "<div>\n",
       "<style scoped>\n",
       "    .dataframe tbody tr th:only-of-type {\n",
       "        vertical-align: middle;\n",
       "    }\n",
       "\n",
       "    .dataframe tbody tr th {\n",
       "        vertical-align: top;\n",
       "    }\n",
       "\n",
       "    .dataframe thead th {\n",
       "        text-align: right;\n",
       "    }\n",
       "</style>\n",
       "<table border=\"1\" class=\"dataframe\">\n",
       "  <thead>\n",
       "    <tr style=\"text-align: right;\">\n",
       "      <th></th>\n",
       "      <th>X</th>\n",
       "      <th>Y</th>\n",
       "      <th>dX</th>\n",
       "      <th>dY</th>\n",
       "    </tr>\n",
       "    <tr>\n",
       "      <th>Alepa</th>\n",
       "      <th></th>\n",
       "      <th></th>\n",
       "      <th></th>\n",
       "      <th></th>\n",
       "    </tr>\n",
       "  </thead>\n",
       "  <tbody>\n",
       "    <tr>\n",
       "      <th>Jätkäsaari</th>\n",
       "      <td>24.919</td>\n",
       "      <td>60.160</td>\n",
       "      <td>-0.028</td>\n",
       "      <td>-0.025</td>\n",
       "    </tr>\n",
       "    <tr>\n",
       "      <th>Perämiehenkatu</th>\n",
       "      <td>24.934</td>\n",
       "      <td>60.159</td>\n",
       "      <td>-0.013</td>\n",
       "      <td>-0.026</td>\n",
       "    </tr>\n",
       "    <tr>\n",
       "      <th>Viherniemenkatu</th>\n",
       "      <td>24.953</td>\n",
       "      <td>60.180</td>\n",
       "      <td>0.006</td>\n",
       "      <td>-0.005</td>\n",
       "    </tr>\n",
       "    <tr>\n",
       "      <th>Kallio</th>\n",
       "      <td>24.947</td>\n",
       "      <td>60.185</td>\n",
       "      <td>0.000</td>\n",
       "      <td>0.000</td>\n",
       "    </tr>\n",
       "    <tr>\n",
       "      <th>Mannerheimintie</th>\n",
       "      <td>24.917</td>\n",
       "      <td>60.189</td>\n",
       "      <td>-0.030</td>\n",
       "      <td>0.004</td>\n",
       "    </tr>\n",
       "  </tbody>\n",
       "</table>\n",
       "</div>"
      ],
      "text/plain": [
       "                      X       Y     dX     dY\n",
       "Alepa                                        \n",
       "Jätkäsaari       24.919  60.160 -0.028 -0.025\n",
       "Perämiehenkatu   24.934  60.159 -0.013 -0.026\n",
       "Viherniemenkatu  24.953  60.180  0.006 -0.005\n",
       "Kallio           24.947  60.185  0.000  0.000\n",
       "Mannerheimintie  24.917  60.189 -0.030  0.004"
      ]
     },
     "execution_count": 41,
     "metadata": {},
     "output_type": "execute_result"
    }
   ],
   "source": [
    "# Laske etäisyydet keskustan alepaan ja lisää uusi sarake\n",
    "df['dX'] = df['X'] - df.loc[\"Kallio\"]['X']\n",
    "df['dY'] = df['Y'] - df.loc[\"Kallio\"]['Y']\n",
    "df.head()"
   ]
  }
 ],
 "metadata": {
  "kernelspec": {
   "display_name": "Python 3.6.9 64-bit",
   "language": "python",
   "name": "python3"
  },
  "language_info": {
   "codemirror_mode": {
    "name": "ipython",
    "version": 3
   },
   "file_extension": ".py",
   "mimetype": "text/x-python",
   "name": "python",
   "nbconvert_exporter": "python",
   "pygments_lexer": "ipython3",
   "version": "3.6.9 (default, Nov 25 2022, 14:10:45) \n[GCC 8.4.0]"
  },
  "orig_nbformat": 4,
  "vscode": {
   "interpreter": {
    "hash": "31f2aee4e71d21fbe5cf8b01ff0e069b9275f58929596ceb00d14d90e3e16cd6"
   }
  }
 },
 "nbformat": 4,
 "nbformat_minor": 2
}
