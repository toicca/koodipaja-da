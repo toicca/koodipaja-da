{
 "cells": [
  {
   "cell_type": "markdown",
   "metadata": {},
   "source": [
    "# Koodauspaja, harjoitus 2\n",
    "# Kimble\n",
    "\n",
    "Resonanssin opiskelijahuoneella on kerätty dataa Kimble-lautapelin nopanheitoista. Noppaa heitetään pop-o-matic-laitteen avulla, missä noppa pysyy muovikuvun sisällä. Nopan odotettu käytös on sama kuin vapaasti liikkuvan nopan. Testataan, pitääkö hypoteesi paikkansa."
   ]
  },
  {
   "attachments": {},
   "cell_type": "markdown",
   "metadata": {},
   "source": [
    "## 1.1 Datan lukeminen ja käsittely\n",
    "\n",
    "Lue koodiin taulukko tiedostosta 'kimble_tulos.csv'. Taulukko pitää sisällään kuusi saraketta ja kuusi riviä. sarake kuvaa ns. nykyistä nopan silmälukua ja rivi kuvaa kuinka monta kertaa luku esiintyi sarakkeen luvun jälkeen. Esim. sarakkeen '1' voisi lukea: \"Ykkösen jälkee ykkönen tuli 39 kertaa, kakkonen 54 kertaa, kolmonen 50 kertaa jne.\"\n",
    "\n",
    "Vinkki: Taulukko pitää nyt sisällään tiedon sarakkeidein ja rivien nimistä. Tämän takia `pd.read_csv` tarvitsee argumentit `header` ja `index_col`."
   ]
  },
  {
   "cell_type": "code",
   "execution_count": 2,
   "metadata": {},
   "outputs": [
    {
     "data": {
      "text/html": [
       "<div>\n",
       "<style scoped>\n",
       "    .dataframe tbody tr th:only-of-type {\n",
       "        vertical-align: middle;\n",
       "    }\n",
       "\n",
       "    .dataframe tbody tr th {\n",
       "        vertical-align: top;\n",
       "    }\n",
       "\n",
       "    .dataframe thead th {\n",
       "        text-align: right;\n",
       "    }\n",
       "</style>\n",
       "<table border=\"1\" class=\"dataframe\">\n",
       "  <thead>\n",
       "    <tr style=\"text-align: right;\">\n",
       "      <th></th>\n",
       "      <th>1</th>\n",
       "      <th>2</th>\n",
       "      <th>3</th>\n",
       "      <th>4</th>\n",
       "      <th>5</th>\n",
       "      <th>6</th>\n",
       "    </tr>\n",
       "  </thead>\n",
       "  <tbody>\n",
       "    <tr>\n",
       "      <th>1</th>\n",
       "      <td>39</td>\n",
       "      <td>49</td>\n",
       "      <td>63</td>\n",
       "      <td>56</td>\n",
       "      <td>49</td>\n",
       "      <td>91</td>\n",
       "    </tr>\n",
       "    <tr>\n",
       "      <th>2</th>\n",
       "      <td>54</td>\n",
       "      <td>25</td>\n",
       "      <td>36</td>\n",
       "      <td>50</td>\n",
       "      <td>82</td>\n",
       "      <td>33</td>\n",
       "    </tr>\n",
       "    <tr>\n",
       "      <th>3</th>\n",
       "      <td>50</td>\n",
       "      <td>40</td>\n",
       "      <td>30</td>\n",
       "      <td>99</td>\n",
       "      <td>49</td>\n",
       "      <td>40</td>\n",
       "    </tr>\n",
       "    <tr>\n",
       "      <th>4</th>\n",
       "      <td>67</td>\n",
       "      <td>38</td>\n",
       "      <td>96</td>\n",
       "      <td>32</td>\n",
       "      <td>53</td>\n",
       "      <td>46</td>\n",
       "    </tr>\n",
       "    <tr>\n",
       "      <th>5</th>\n",
       "      <td>45</td>\n",
       "      <td>92</td>\n",
       "      <td>51</td>\n",
       "      <td>39</td>\n",
       "      <td>38</td>\n",
       "      <td>61</td>\n",
       "    </tr>\n",
       "    <tr>\n",
       "      <th>6</th>\n",
       "      <td>93</td>\n",
       "      <td>36</td>\n",
       "      <td>33</td>\n",
       "      <td>56</td>\n",
       "      <td>53</td>\n",
       "      <td>26</td>\n",
       "    </tr>\n",
       "  </tbody>\n",
       "</table>\n",
       "</div>"
      ],
      "text/plain": [
       "    1   2   3   4   5   6\n",
       "1  39  49  63  56  49  91\n",
       "2  54  25  36  50  82  33\n",
       "3  50  40  30  99  49  40\n",
       "4  67  38  96  32  53  46\n",
       "5  45  92  51  39  38  61\n",
       "6  93  36  33  56  53  26"
      ]
     },
     "execution_count": 2,
     "metadata": {},
     "output_type": "execute_result"
    }
   ],
   "source": [
    "import numpy as np\n",
    "import pandas as pd\n",
    "\n",
    "# Nopan silmäluvut\n",
    "noppa = np.array([1, 2, 3, 4, 5, 6])\n",
    "\n",
    "# Lue tiedosto, huomioi header (ensimmäinen rivi) ja indeksi (ensimmäinen sarake)\n",
    "df = pd.read_csv(\"kimble_tulos.csv\", header=0, index_col=0)\n",
    "\n",
    "df"
   ]
  },
  {
   "attachments": {},
   "cell_type": "markdown",
   "metadata": {},
   "source": [
    "## 1.2 Todennäköisyystaulukko\n",
    "\n",
    "Luo nyt myös taulukko, jossa esiintymismäärien sijaan soluissa on todennäköisyys.\n",
    "\n",
    "Vinkki: `df.sum()` palauttaa summan sarakkeiden arvoista"
   ]
  },
  {
   "cell_type": "code",
   "execution_count": 3,
   "metadata": {},
   "outputs": [
    {
     "data": {
      "text/html": [
       "<div>\n",
       "<style scoped>\n",
       "    .dataframe tbody tr th:only-of-type {\n",
       "        vertical-align: middle;\n",
       "    }\n",
       "\n",
       "    .dataframe tbody tr th {\n",
       "        vertical-align: top;\n",
       "    }\n",
       "\n",
       "    .dataframe thead th {\n",
       "        text-align: right;\n",
       "    }\n",
       "</style>\n",
       "<table border=\"1\" class=\"dataframe\">\n",
       "  <thead>\n",
       "    <tr style=\"text-align: right;\">\n",
       "      <th></th>\n",
       "      <th>1</th>\n",
       "      <th>2</th>\n",
       "      <th>3</th>\n",
       "      <th>4</th>\n",
       "      <th>5</th>\n",
       "      <th>6</th>\n",
       "    </tr>\n",
       "  </thead>\n",
       "  <tbody>\n",
       "    <tr>\n",
       "      <th>1</th>\n",
       "      <td>0.112069</td>\n",
       "      <td>0.175000</td>\n",
       "      <td>0.203883</td>\n",
       "      <td>0.168675</td>\n",
       "      <td>0.151235</td>\n",
       "      <td>0.306397</td>\n",
       "    </tr>\n",
       "    <tr>\n",
       "      <th>2</th>\n",
       "      <td>0.155172</td>\n",
       "      <td>0.089286</td>\n",
       "      <td>0.116505</td>\n",
       "      <td>0.150602</td>\n",
       "      <td>0.253086</td>\n",
       "      <td>0.111111</td>\n",
       "    </tr>\n",
       "    <tr>\n",
       "      <th>3</th>\n",
       "      <td>0.143678</td>\n",
       "      <td>0.142857</td>\n",
       "      <td>0.097087</td>\n",
       "      <td>0.298193</td>\n",
       "      <td>0.151235</td>\n",
       "      <td>0.134680</td>\n",
       "    </tr>\n",
       "    <tr>\n",
       "      <th>4</th>\n",
       "      <td>0.192529</td>\n",
       "      <td>0.135714</td>\n",
       "      <td>0.310680</td>\n",
       "      <td>0.096386</td>\n",
       "      <td>0.163580</td>\n",
       "      <td>0.154882</td>\n",
       "    </tr>\n",
       "    <tr>\n",
       "      <th>5</th>\n",
       "      <td>0.129310</td>\n",
       "      <td>0.328571</td>\n",
       "      <td>0.165049</td>\n",
       "      <td>0.117470</td>\n",
       "      <td>0.117284</td>\n",
       "      <td>0.205387</td>\n",
       "    </tr>\n",
       "    <tr>\n",
       "      <th>6</th>\n",
       "      <td>0.267241</td>\n",
       "      <td>0.128571</td>\n",
       "      <td>0.106796</td>\n",
       "      <td>0.168675</td>\n",
       "      <td>0.163580</td>\n",
       "      <td>0.087542</td>\n",
       "    </tr>\n",
       "  </tbody>\n",
       "</table>\n",
       "</div>"
      ],
      "text/plain": [
       "          1         2         3         4         5         6\n",
       "1  0.112069  0.175000  0.203883  0.168675  0.151235  0.306397\n",
       "2  0.155172  0.089286  0.116505  0.150602  0.253086  0.111111\n",
       "3  0.143678  0.142857  0.097087  0.298193  0.151235  0.134680\n",
       "4  0.192529  0.135714  0.310680  0.096386  0.163580  0.154882\n",
       "5  0.129310  0.328571  0.165049  0.117470  0.117284  0.205387\n",
       "6  0.267241  0.128571  0.106796  0.168675  0.163580  0.087542"
      ]
     },
     "execution_count": 3,
     "metadata": {},
     "output_type": "execute_result"
    }
   ],
   "source": [
    "# Mitatut esiintymistodennäköisyydet\n",
    "df_norm = df / df.sum()\n",
    "\n",
    "df_norm"
   ]
  },
  {
   "attachments": {},
   "cell_type": "markdown",
   "metadata": {},
   "source": [
    "## 1.3 Odotettu taulukko"
   ]
  },
  {
   "attachments": {},
   "cell_type": "markdown",
   "metadata": {},
   "source": [
    "Luvut eivät ainakaan näytä jakautuvan tasaisesti, vaikka olettaisimme nopan käyttäytyvän täysin satunnaisesti. Tee 'odotettu' taulukko, joka on muodoltaan samanlainen kuin alkuperäinen, mutta jossa luvut ovat tasaisesti jakautuneet. Esim. odotetun taulukon sarake '1' on 1/6 kertaa tiedoston taulukon sarakkeen '1' lukujen summa. \n",
    "\n",
    "HUOM. Saat vain yhden luvun, mutta täytä taulukko saman muotoiseksi kuin alkuperäinen.\n",
    "\n",
    "Vinkki: Voi olla helpompaa muodostaa Numpy-taulukko, jonka avulla luot DataFramen."
   ]
  },
  {
   "cell_type": "code",
   "execution_count": 5,
   "metadata": {},
   "outputs": [
    {
     "data": {
      "text/html": [
       "<div>\n",
       "<style scoped>\n",
       "    .dataframe tbody tr th:only-of-type {\n",
       "        vertical-align: middle;\n",
       "    }\n",
       "\n",
       "    .dataframe tbody tr th {\n",
       "        vertical-align: top;\n",
       "    }\n",
       "\n",
       "    .dataframe thead th {\n",
       "        text-align: right;\n",
       "    }\n",
       "</style>\n",
       "<table border=\"1\" class=\"dataframe\">\n",
       "  <thead>\n",
       "    <tr style=\"text-align: right;\">\n",
       "      <th></th>\n",
       "      <th>1</th>\n",
       "      <th>2</th>\n",
       "      <th>3</th>\n",
       "      <th>4</th>\n",
       "      <th>5</th>\n",
       "      <th>6</th>\n",
       "    </tr>\n",
       "  </thead>\n",
       "  <tbody>\n",
       "    <tr>\n",
       "      <th>1</th>\n",
       "      <td>58.0</td>\n",
       "      <td>46.666667</td>\n",
       "      <td>51.5</td>\n",
       "      <td>55.333333</td>\n",
       "      <td>54.0</td>\n",
       "      <td>49.5</td>\n",
       "    </tr>\n",
       "    <tr>\n",
       "      <th>2</th>\n",
       "      <td>58.0</td>\n",
       "      <td>46.666667</td>\n",
       "      <td>51.5</td>\n",
       "      <td>55.333333</td>\n",
       "      <td>54.0</td>\n",
       "      <td>49.5</td>\n",
       "    </tr>\n",
       "    <tr>\n",
       "      <th>3</th>\n",
       "      <td>58.0</td>\n",
       "      <td>46.666667</td>\n",
       "      <td>51.5</td>\n",
       "      <td>55.333333</td>\n",
       "      <td>54.0</td>\n",
       "      <td>49.5</td>\n",
       "    </tr>\n",
       "    <tr>\n",
       "      <th>4</th>\n",
       "      <td>58.0</td>\n",
       "      <td>46.666667</td>\n",
       "      <td>51.5</td>\n",
       "      <td>55.333333</td>\n",
       "      <td>54.0</td>\n",
       "      <td>49.5</td>\n",
       "    </tr>\n",
       "    <tr>\n",
       "      <th>5</th>\n",
       "      <td>58.0</td>\n",
       "      <td>46.666667</td>\n",
       "      <td>51.5</td>\n",
       "      <td>55.333333</td>\n",
       "      <td>54.0</td>\n",
       "      <td>49.5</td>\n",
       "    </tr>\n",
       "  </tbody>\n",
       "</table>\n",
       "</div>"
      ],
      "text/plain": [
       "      1          2     3          4     5     6\n",
       "1  58.0  46.666667  51.5  55.333333  54.0  49.5\n",
       "2  58.0  46.666667  51.5  55.333333  54.0  49.5\n",
       "3  58.0  46.666667  51.5  55.333333  54.0  49.5\n",
       "4  58.0  46.666667  51.5  55.333333  54.0  49.5\n",
       "5  58.0  46.666667  51.5  55.333333  54.0  49.5"
      ]
     },
     "execution_count": 5,
     "metadata": {},
     "output_type": "execute_result"
    }
   ],
   "source": [
    "# Muodosta odotettu taulukko\n",
    "summa = 1/6 * df.sum(axis=0)\n",
    "odotettu = np.zeros(shape=(6,6))\n",
    "\n",
    "# Täytä taulukko odotetuilla arvoilla\n",
    "for rivi in range(6):\n",
    "    odotettu[:, rivi] = summa[rivi]\n",
    "\n",
    "# Luo DataFrame arvoista\n",
    "odotettu = pd.DataFrame(odotettu, columns=list(map(str, noppa)), index=list(map(str, noppa)))\n",
    "odotettu.head()"
   ]
  },
  {
   "attachments": {},
   "cell_type": "markdown",
   "metadata": {},
   "source": [
    "## 2.1 Taulukoiden vertailu\n",
    "\n",
    "Sinulla on nyt kaksi taulukkoa, mitatut ja odotetut arvot. Lukuja on OK-kiva katsella, mutta kuvaajia on kivempi. Muodosta aluksi histogrammi-kuvaaja vain sarakkeesta \"1\". Kuvaajassa tulisi siis näkyä kuinka usein mikäkin luku seurasi lukua \"1\". Piirrä myös punainen katkoviiva odotetun todennäköisyyden kohdalle.\n",
    "\n",
    "Vinkki: matplotibin `plt.bar(x, y)` on tähän sopiva. `plt.hlines(y, x_lower, x_upper)` piirtää y:n arvon x_lowerista x_upperiin"
   ]
  },
  {
   "cell_type": "code",
   "execution_count": 8,
   "metadata": {},
   "outputs": [
    {
     "data": {
      "text/plain": [
       "<matplotlib.collections.LineCollection at 0x7fe16dbcc160>"
      ]
     },
     "execution_count": 8,
     "metadata": {},
     "output_type": "execute_result"
    },
    {
     "data": {
      "image/png": "[encoded data removed]",
      "text/plain": [
       "<Figure size 432x288 with 1 Axes>"
      ]
     },
     "metadata": {
      "needs_background": "light"
     },
     "output_type": "display_data"
    }
   ],
   "source": [
    "import matplotlib.pyplot as plt\n",
    "\n",
    "plt.bar(noppa, df[\"1\"])\n",
    "plt.xticks(noppa)\n",
    "plt.hlines(odotettu[\"1\"], 0.5, 6.5, color=\"red\", linestyle=\"dashed\")"
   ]
  },
  {
   "attachments": {},
   "cell_type": "markdown",
   "metadata": {},
   "source": [
    "## 2.2 Kaikki kuvaajat"
   ]
  },
  {
   "attachments": {},
   "cell_type": "markdown",
   "metadata": {},
   "source": [
    "Muodosta nyt jokaiselle silmäluvulle samanlainen histogrammi kuin kohdassa 2.1 samaan kuvaajaan matplotlibin `plt.subplots()` avulla.\n",
    "\n",
    "Vinkki: Kuvaajien ulkonäköä voi parantaa kutsu `fig.tigt_layout()`, kun olet määritellyt \n",
    "\n",
    "    fig, ax = plt.subplots(3, 2, sharex=True)"
   ]
  },
  {
   "cell_type": "code",
   "execution_count": 7,
   "metadata": {},
   "outputs": [
    {
     "data": {
      "image/png": "[encoded data removed]",
      "text/plain": [
       "<Figure size 432x288 with 6 Axes>"
      ]
     },
     "metadata": {
      "needs_background": "light"
     },
     "output_type": "display_data"
    }
   ],
   "source": [
    "# Alusta kuvaaja\n",
    "fig, ax = plt.subplots(3, 2, sharex=True)\n",
    "fig.tight_layout()\n",
    "\n",
    "# Piirrä kuvaaja\n",
    "for rivi in range(3):\n",
    "    for sarake in range(2):\n",
    "        indeksi = rivi*2 + sarake\n",
    "        ax[rivi, sarake].bar(noppa, df.iloc[indeksi])\n",
    "        ax[rivi, sarake].set_xticks(noppa)\n",
    "        ax[rivi, sarake].set_title(str(noppa[indeksi]))\n",
    "        ax[rivi, sarake].hlines(odotettu[str(indeksi+1)], 0, 7, color=\"red\", linestyle=\"dashed\")\n",
    "\n",
    "plt.show()"
   ]
  },
  {
   "attachments": {},
   "cell_type": "markdown",
   "metadata": {},
   "source": [
    "### 2.3 2D-kuvaajat ja Seaborn\n",
    "\n",
    "Kuusi erillistä histogrammi näyttää hyvin mitatun datan ketjut. Kyseessä on kuitenkin 2D-dataa, joten kuuden yksittäisen histogrammin sijaan voisimme tehdä yhden heatmap-kuvaajan, jossa x-akselilla on nykyinen silmäluku ja y-akselilla tuleva silmäluku. Kuvaajassa olisi jokaisen pisteen kohdalla väri, jonka 'vahvuus' kuvaa todennäköisyyttä.\n",
    "\n",
    "Matplotlibissä heatmapin saa tehtyä esim. `plt.imshow()`. Piirrä Matplotlibin avulla heatmap, johon on myös kirjoitettu todennäköisyydet värien päälle (katso [täältä](https://matplotlib.org/stable/gallery/images_contours_and_fields/image_annotated_heatmap.html) apua)"
   ]
  },
  {
   "cell_type": "code",
   "execution_count": 61,
   "metadata": {},
   "outputs": [
    {
     "data": {
      "image/png": "[encoded data removed]",
      "text/plain": [
       "<Figure size 432x288 with 1 Axes>"
      ]
     },
     "metadata": {
      "needs_background": "light"
     },
     "output_type": "display_data"
    }
   ],
   "source": [
    "fig, ax = plt.subplots()\n",
    "im = ax.imshow(df_norm)\n",
    "\n",
    "# Kirjoita x- ja y-akseleille nopan silmäluvut\n",
    "ax.set_xticks(np.arange(6), labels=noppa)\n",
    "ax.xaxis.tick_top()\n",
    "ax.set_yticks(np.arange(6), labels=noppa)\n",
    "\n",
    "# Pyöräytä x-akselin silmäluvut hienostelun takia\n",
    "plt.setp(ax.get_xticklabels(), rotation=45, ha=\"left\",\n",
    "         rotation_mode=\"anchor\")\n",
    "\n",
    "# Lisää todennäköisyydet kuvaan\n",
    "for i in range(6):\n",
    "    for j in range(6):\n",
    "        text = ax.text(j, i, f\"{df_norm.iloc[i, j]:.2f}\",\n",
    "                       ha=\"center\", va=\"center\", color=\"w\")\n",
    "\n",
    "ax.set_title(\"Pop-o-maticin seuraavan silmäluvun todennäköisyys\")\n",
    "\n",
    "fig.tight_layout()\n",
    "plt.show()"
   ]
  },
  {
   "attachments": {},
   "cell_type": "markdown",
   "metadata": {},
   "source": [
    "Yllä olevan kuvaajan tuotto on Matplotlibillä suhteellisen työlästä. Vähentääksesi työn määrää voit käyttää Seaborn-kirjastoa. Seaborn on Matplotlibin päälle rakennettu kirjasto, joka tekee kuvaamisesta helpompaa. Seabornin heatmap-kuvaaja on [`sns.heatmap()`](https://seaborn.pydata.org/generated/seaborn.heatmap.html) ja Matplotlibiä vastaavan kuvaajan pystyy tuottamaan muutamalla rivillä.\n",
    "\n",
    "Seabornin saa asennettua terminaalikomennolla:\n",
    "\n",
    "    pip install seaborn"
   ]
  },
  {
   "cell_type": "code",
   "execution_count": 43,
   "metadata": {},
   "outputs": [
    {
     "data": {
      "image/png": "[encoded data removed]",
      "text/plain": [
       "<Figure size 432x288 with 2 Axes>"
      ]
     },
     "metadata": {
      "needs_background": "light"
     },
     "output_type": "display_data"
    }
   ],
   "source": [
    "import seaborn as sns\n",
    "ax = sns.heatmap(df_norm, annot=True, fmt=\".2f\", cmap=\"Blues\")\n",
    "ax.xaxis.tick_top()\n",
    "ax.set_title(\"Pop-o-maticin seuraavan silmäluvun todennäköisyys\")\n",
    "plt.show()"
   ]
  },
  {
   "attachments": {},
   "cell_type": "markdown",
   "metadata": {},
   "source": [
    "## Bonus: 3. Numeerinen vertailu\n",
    "\n",
    "Mittaustulokset poikkeavat selvästi odotetusta, mutta _tieteellinen tutkimus_ vaatii usein tarkemman käsittelyn kuin pelkät kuvaajat. Jakaumien samankaltaisuutta pystyy vertaamaan esim. $\\chi^2$-testillä. Testin tarkempaa toimintaa sinun ei tarvitse tietää, mutta testin perusajatuksena on se, että jos jakaumat ovat samankaltaisia, niin testin tulos on pieni. Jos jakaumat ovat erilaisia, niin testin tulos on suuri. Testi palauttaa myös p-arvon, joka kertoo kuinka todennäköistä on, että jakaumat ovat samankaltaisia. Jos p-arvo on pieni, niin jakaumat ovat todennäköisesti erilaisia. Jos p-arvo on suuri, niin jakaumat ovat todennäköisesti samankaltaisia. P-arvo saa arvon väliltä 0-1.\n",
    "\n",
    "Testaa jakaumien samankaltaisuutta $\\chi^2$-testillä. Tulosta testin tulos ja p-arvo. $\\chi^2$-testi löytyy Scipy-kirjastosta [`scipy.stats.chisquare()`](https://docs.scipy.org/doc/scipy/reference/generated/scipy.stats.chisquare.html)."
   ]
  },
  {
   "cell_type": "code",
   "execution_count": 55,
   "metadata": {},
   "outputs": [
    {
     "data": {
      "text/plain": [
       "(array([33.03448276, 59.21428571, 61.31067961, 49.65060241, 20.22222222,\n",
       "        56.19191919]),\n",
       " array([3.70456120e-06, 1.76624618e-11, 6.51253725e-12, 1.63373543e-09,\n",
       "        1.13522766e-03, 7.41964044e-11]),\n",
       " 279.6241919083369,\n",
       " 6.357580116382698e-40)"
      ]
     },
     "execution_count": 55,
     "metadata": {},
     "output_type": "execute_result"
    }
   ],
   "source": [
    "from scipy.stats import chisquare\n",
    "\n",
    "# Tee testi sarakkeille\n",
    "chi2_s, p_s = chisquare(df, odotettu)\n",
    "\n",
    "# Tee testi koko datalle\n",
    "chi2, p = chisquare(df.values.flatten(), odotettu.values.flatten())\n",
    "\n",
    "# Tulosta tulokset\n",
    "chi2_s, p_s, chi2, p"
   ]
  }
 ],
 "metadata": {
  "kernelspec": {
   "display_name": "Python 3.9.12 ('base')",
   "language": "python",
   "name": "python3"
  },
  "language_info": {
   "codemirror_mode": {
    "name": "ipython",
    "version": 3
   },
   "file_extension": ".py",
   "mimetype": "text/x-python",
   "name": "python",
   "nbconvert_exporter": "python",
   "pygments_lexer": "ipython3",
   "version": "3.9.12"
  },
  "orig_nbformat": 4,
  "vscode": {
   "interpreter": {
    "hash": "3807c74e09b696dbc6c0189bfd42ae844e69b6f31491de7a49127e9e1d7ed2c5"
   }
  }
 },
 "nbformat": 4,
 "nbformat_minor": 2
}
