{
 "cells": [
  {
   "attachments": {},
   "cell_type": "markdown",
   "metadata": {},
   "source": [
    "# Koodipaja\n",
    "\n",
    "Sisältö:\n",
    "- [Jupyter Notebookit ja Markdown](#Jupyter)\n",
    "- [Pandas](#Pandas)"
   ]
  },
  {
   "cell_type": "markdown",
   "metadata": {},
   "source": [
    "## Jupyter"
   ]
  },
  {
   "cell_type": "markdown",
   "metadata": {},
   "source": [
    "Jupyter Notebookit ovat (usein) selainpohjaisia Python-ohjelmointiympäristöjä, joissa voi kirjoittaa Python-koodia, mutta myös dokumentoida koodia Markdownilla. Jupyter Notebookit ovat hyvä tapa dokumentoida koodia ja koodin tuloksia. Jupyter Notebookit ovat myös hyvä tapa jakaa koodia ja koodin tuloksia.\n",
    "\n",
    "Notebookin tunnistaa .ipynb tiedostopäätteestä, vrt. perinteiseen .py Python-päätteeseen."
   ]
  },
  {
   "cell_type": "markdown",
   "metadata": {},
   "source": [
    "### Solut\n",
    "\n",
    "Notebookit koostuvat koodi- ja tekstisoluista. Nämä tekstit on kirjoitettu tekstisoluihin (yllätys), ja tekstisolut hyödyntävät Markdownia, joka on Latexia muistuttava koodikieli. Tuplaklikkaamalla tekstisolua pääset muokkaamaan sitä ja näet raa'an koodin.\n",
    "\n",
    "Koodisolut toimivat samalla tavalla, mutta Markdownin sijaan soluissa käytetään perinteisesti Pythonia. Kuitenkin löytyy myös tiedostomuotoja, joissa Pythonin sijaan soluissa käytetään esimerkiksi R tai C++. Tässä notebookissa keskitytään Pythoniin.\n",
    "\n",
    "Koodi- sekä tekstisoluja ajetaan joko koodieditorista löytyvän \"Run\" tms. napin avulla tai usein Ctrl+Enter näppäinkomennolla. Jupyter lab ja Visual Studio code ovat hyviä ohjelmointiympäristöjä Jupyteria varten, ja netissä notebookkeja voi jakaa esimerkiksi [Google Colabissa](https://colab.research.google.com/) tai [Binderissä](https://mybinder.org/)."
   ]
  },
  {
   "cell_type": "markdown",
   "metadata": {},
   "source": [
    "### Markdown-solut"
   ]
  },
  {
   "cell_type": "markdown",
   "metadata": {},
   "source": [
    "\n",
    "Markdownilla voi esim. listata ja linkata asioita\n",
    "\n",
    "- [omena](https://fi.wikipedia.org/wiki/Omena)\n",
    "- [päärynä](https://fi.wikipedia.org/wiki/Päärynä)\n",
    "\n",
    "Solujen otsikointi toimii risuaidan avulla, enemmän risuaitoja $\\rightarrow$ sisempi otsikko.\n",
    "\n",
    "Fyysikoille voi olla hyödyllistä kirjoittaa kaavoja soluihin: $\\bar{F}=m\\bar{a}$\n",
    "\n",
    "Soluihin voi myös liittää kuvia:\n",
    "\n",
    "![kuvateksti](appels.jpg \"Kokonaisia ja halkaistuja appelsiineja\")\n",
    "\n",
    "Taulukot onnistuvat kanssa:\n",
    "\n",
    "| Hedelmä | Linkattu hedelmä |\n",
    "| ----------- | ----------- |\n",
    "| Omena | [omena](https://fi.wikipedia.org/wiki/Omena) |\n",
    "| Päärynä | [päärynä](https://fi.wikipedia.org/wiki/Päärynä) | \n",
    "\n",
    "Näitä kaikkia on kuitenkin turha lähteä opettelemaan ulkoa. Hyvä toimintatapa on esimerkiksi ottaa [cheat sheet](https://www.markdownguide.org/cheat-sheet/) talteen ja katsoa siltä mitä tarvitsee + perinteiset Google ja Stack Overflow."
   ]
  },
  {
   "cell_type": "markdown",
   "metadata": {},
   "source": [
    "### Koodisolut"
   ]
  },
  {
   "cell_type": "markdown",
   "metadata": {},
   "source": [
    "Koodisolu näyttää perinteiseltä Python-koodilta"
   ]
  },
  {
   "cell_type": "code",
   "execution_count": 1,
   "metadata": {},
   "outputs": [
    {
     "name": "stdout",
     "output_type": "stream",
     "text": [
      "Hello World!\n"
     ]
    }
   ],
   "source": [
    "print(\"Hello World!\")"
   ]
  },
  {
   "cell_type": "markdown",
   "metadata": {},
   "source": [
    "Koodisolu tulostaa solun viimeisen rivin automaattisesti"
   ]
  },
  {
   "cell_type": "code",
   "execution_count": 6,
   "metadata": {},
   "outputs": [
    {
     "data": {
      "text/plain": [
       "1"
      ]
     },
     "execution_count": 6,
     "metadata": {},
     "output_type": "execute_result"
    }
   ],
   "source": [
    "i = 1\n",
    "i"
   ]
  },
  {
   "cell_type": "markdown",
   "metadata": {},
   "source": [
    "Koodisolujen ns. kauneus on siinä, että koodin voi paloitella. Virheet löytyvät helpommin ja pystyy katsomaan välituloksia. Tämä kuitenkin johtaa siihen, että ajamisjärjestyksellä on väliä ja muuttujat voivat vahingossa sekoittua. "
   ]
  },
  {
   "cell_type": "code",
   "execution_count": 4,
   "metadata": {},
   "outputs": [],
   "source": [
    "i = 3"
   ]
  },
  {
   "cell_type": "code",
   "execution_count": 7,
   "metadata": {},
   "outputs": [
    {
     "data": {
      "text/plain": [
       "1"
      ]
     },
     "execution_count": 7,
     "metadata": {},
     "output_type": "execute_result"
    }
   ],
   "source": [
    "i"
   ]
  },
  {
   "cell_type": "markdown",
   "metadata": {},
   "source": [
    "## Pandas"
   ]
  },
  {
   "cell_type": "markdown",
   "metadata": {},
   "source": [
    "### Perusteet"
   ]
  },
  {
   "cell_type": "markdown",
   "metadata": {},
   "source": [
    "\n",
    "Pandas on Python-kirjasto, jolla voi lukea ja kirjoittaa tietoja erilaisista tiedostomuodoista. Pandasilla voi myös muokata tietoja ja tehdä niistä analyysiä. Pandas on hyvä tapa lukea ja kirjoittaa tietoja CSV-tiedostoista. Pandas on myös hyvä tapa lukea ja kirjoittaa tietoja Excel-tiedostoista. Pandas on hyvä tapa lukea ja kirjoittaa tietoja JSON-tiedostoista. Pandas on hyvä tapa lukea ja kirjoittaa tietoja HTML-tiedostoista. Pandas on hyvä tapa lukea ja kirjoittaa tietoja SQL-tietokannoista. Pandas on hyvä tapa lukea ja kirjoittaa tietoja XML-tiedostoista.   Pandas on hyvä tapa lukea ja kirjoittaa tietoja tietokannoista, joissa on taulukkomuotoinen tietorakenne. _Pandas on hyvä tapa lukea ja kirjoittaa tietoja tietokannoista, joissa on tietokantamalli._ \n",
    "\n",
    "Tuon tekstin loi tekoäly, joka luki [Wikipedian Pandas-sivun](https://fi.wikipedia.org/wiki/Pandas_(kirjasto)) ja teki siitä tekstiä. Tuonkin lauseen loi tekoäly luomansa tekstin perusteella.\n",
    "\n",
    "Asiaan."
   ]
  },
  {
   "cell_type": "markdown",
   "metadata": {},
   "source": [
    "### Asennus ja käyttöönotto"
   ]
  },
  {
   "cell_type": "markdown",
   "metadata": {},
   "source": [
    "Pandasin saa asennettua komennolla\n",
    "\n",
    "    pip install pandas\n",
    "\n",
    "tai esimerkiksi Anaconda-ympäristönhallintaohjelmalla\n",
    "\n",
    "    conda install pandas\n",
    "\n",
    "Netissä, esim. Colabissa, Pandas on asennettuna oletuksena. Pandasin saa käyttöön tyypillisen importin avulla"
   ]
  },
  {
   "cell_type": "code",
   "execution_count": 10,
   "metadata": {},
   "outputs": [
    {
     "data": {
      "text/plain": [
       "'0.22.0'"
      ]
     },
     "execution_count": 10,
     "metadata": {},
     "output_type": "execute_result"
    }
   ],
   "source": [
    "import pandas as pd\n",
    "pd.__version__"
   ]
  },
  {
   "cell_type": "markdown",
   "metadata": {},
   "source": [
    "### DataFrame"
   ]
  },
  {
   "cell_type": "markdown",
   "metadata": {},
   "source": [
    "DataFrame on Pandasin perusdatatyyppi. Se muistuttaa Excel-taulukkoa, jossa on nimetyt indeksit (rivit) ja sarakkeet. DataFramen saa alustettua numpy-taulukon tai sanakirjan avulla:"
   ]
  },
  {
   "cell_type": "code",
   "execution_count": 14,
   "metadata": {},
   "outputs": [
    {
     "data": {
      "text/html": [
       "<div>\n",
       "<style scoped>\n",
       "    .dataframe tbody tr th:only-of-type {\n",
       "        vertical-align: middle;\n",
       "    }\n",
       "\n",
       "    .dataframe tbody tr th {\n",
       "        vertical-align: top;\n",
       "    }\n",
       "\n",
       "    .dataframe thead th {\n",
       "        text-align: right;\n",
       "    }\n",
       "</style>\n",
       "<table border=\"1\" class=\"dataframe\">\n",
       "  <thead>\n",
       "    <tr style=\"text-align: right;\">\n",
       "      <th></th>\n",
       "      <th>A</th>\n",
       "      <th>B</th>\n",
       "      <th>C</th>\n",
       "      <th>D</th>\n",
       "    </tr>\n",
       "  </thead>\n",
       "  <tbody>\n",
       "    <tr>\n",
       "      <th>a</th>\n",
       "      <td>-0.514432</td>\n",
       "      <td>0.579055</td>\n",
       "      <td>0.270405</td>\n",
       "      <td>-1.974623</td>\n",
       "    </tr>\n",
       "    <tr>\n",
       "      <th>b</th>\n",
       "      <td>-0.816933</td>\n",
       "      <td>-1.159184</td>\n",
       "      <td>0.338928</td>\n",
       "      <td>-0.490210</td>\n",
       "    </tr>\n",
       "    <tr>\n",
       "      <th>c</th>\n",
       "      <td>1.672997</td>\n",
       "      <td>0.818206</td>\n",
       "      <td>-0.739226</td>\n",
       "      <td>0.893679</td>\n",
       "    </tr>\n",
       "    <tr>\n",
       "      <th>d</th>\n",
       "      <td>0.986353</td>\n",
       "      <td>0.718063</td>\n",
       "      <td>0.763055</td>\n",
       "      <td>0.358404</td>\n",
       "    </tr>\n",
       "    <tr>\n",
       "      <th>e</th>\n",
       "      <td>0.166520</td>\n",
       "      <td>-0.970390</td>\n",
       "      <td>-0.826933</td>\n",
       "      <td>-1.064614</td>\n",
       "    </tr>\n",
       "    <tr>\n",
       "      <th>f</th>\n",
       "      <td>0.550778</td>\n",
       "      <td>2.643649</td>\n",
       "      <td>-1.583029</td>\n",
       "      <td>-3.345215</td>\n",
       "    </tr>\n",
       "  </tbody>\n",
       "</table>\n",
       "</div>"
      ],
      "text/plain": [
       "          A         B         C         D\n",
       "a -0.514432  0.579055  0.270405 -1.974623\n",
       "b -0.816933 -1.159184  0.338928 -0.490210\n",
       "c  1.672997  0.818206 -0.739226  0.893679\n",
       "d  0.986353  0.718063  0.763055  0.358404\n",
       "e  0.166520 -0.970390 -0.826933 -1.064614\n",
       "f  0.550778  2.643649 -1.583029 -3.345215"
      ]
     },
     "execution_count": 14,
     "metadata": {},
     "output_type": "execute_result"
    }
   ],
   "source": [
    "import numpy as np\n",
    "\n",
    "df = pd.DataFrame(np.random.randn(6,4),index=list('abcdef'),columns=list('ABCD'))\n",
    "df"
   ]
  },
  {
   "cell_type": "code",
   "execution_count": 15,
   "metadata": {},
   "outputs": [
    {
     "data": {
      "text/html": [
       "<div>\n",
       "<style scoped>\n",
       "    .dataframe tbody tr th:only-of-type {\n",
       "        vertical-align: middle;\n",
       "    }\n",
       "\n",
       "    .dataframe tbody tr th {\n",
       "        vertical-align: top;\n",
       "    }\n",
       "\n",
       "    .dataframe thead th {\n",
       "        text-align: right;\n",
       "    }\n",
       "</style>\n",
       "<table border=\"1\" class=\"dataframe\">\n",
       "  <thead>\n",
       "    <tr style=\"text-align: right;\">\n",
       "      <th></th>\n",
       "      <th>A</th>\n",
       "      <th>B</th>\n",
       "      <th>C</th>\n",
       "      <th>D</th>\n",
       "      <th>E</th>\n",
       "      <th>F</th>\n",
       "    </tr>\n",
       "  </thead>\n",
       "  <tbody>\n",
       "    <tr>\n",
       "      <th>0</th>\n",
       "      <td>1.0</td>\n",
       "      <td>2022-02-22</td>\n",
       "      <td>1.0</td>\n",
       "      <td>3</td>\n",
       "      <td>omena</td>\n",
       "      <td>ei-juures</td>\n",
       "    </tr>\n",
       "    <tr>\n",
       "      <th>1</th>\n",
       "      <td>1.0</td>\n",
       "      <td>2022-02-22</td>\n",
       "      <td>1.0</td>\n",
       "      <td>3</td>\n",
       "      <td>päärynä</td>\n",
       "      <td>ei-juures</td>\n",
       "    </tr>\n",
       "    <tr>\n",
       "      <th>2</th>\n",
       "      <td>1.0</td>\n",
       "      <td>2022-02-22</td>\n",
       "      <td>1.0</td>\n",
       "      <td>3</td>\n",
       "      <td>appelsiini</td>\n",
       "      <td>ei-juures</td>\n",
       "    </tr>\n",
       "    <tr>\n",
       "      <th>3</th>\n",
       "      <td>1.0</td>\n",
       "      <td>2022-02-22</td>\n",
       "      <td>1.0</td>\n",
       "      <td>3</td>\n",
       "      <td>mandariini</td>\n",
       "      <td>ei-juures</td>\n",
       "    </tr>\n",
       "  </tbody>\n",
       "</table>\n",
       "</div>"
      ],
      "text/plain": [
       "     A          B    C  D           E          F\n",
       "0  1.0 2022-02-22  1.0  3       omena  ei-juures\n",
       "1  1.0 2022-02-22  1.0  3     päärynä  ei-juures\n",
       "2  1.0 2022-02-22  1.0  3  appelsiini  ei-juures\n",
       "3  1.0 2022-02-22  1.0  3  mandariini  ei-juures"
      ]
     },
     "execution_count": 15,
     "metadata": {},
     "output_type": "execute_result"
    }
   ],
   "source": [
    "df = pd.DataFrame({'A' : 1.,\n",
    "                    'B' : pd.Timestamp('20220222'),\n",
    "                    'C' : pd.Series(1,index=list(range(4)),dtype='float32'),\n",
    "                    'D' : np.array([3] * 4,dtype='int32'),\n",
    "                    'E' : pd.Categorical([\"omena\",\"päärynä\",\"appelsiini\",\"mandariini\"]),\n",
    "                    'F' : 'ei-juures'})\n",
    "df"
   ]
  },
  {
   "cell_type": "markdown",
   "metadata": {},
   "source": [
    "Data ei kuitenkaan välttämättä aina ole saatavilla suoraan ohjelmassa, vaan se on tallennettu tiedostona. Tätä varten on olemassa Pandasin lukufunktiot, joilla voi lukea tiedostosta DataFrame-olion. Esimerkiksi CSV-tiedostoja voi lukea funktiolla `read_csv`:"
   ]
  },
  {
   "cell_type": "code",
   "execution_count": 17,
   "metadata": {},
   "outputs": [
    {
     "data": {
      "text/html": [
       "<div>\n",
       "<style scoped>\n",
       "    .dataframe tbody tr th:only-of-type {\n",
       "        vertical-align: middle;\n",
       "    }\n",
       "\n",
       "    .dataframe tbody tr th {\n",
       "        vertical-align: top;\n",
       "    }\n",
       "\n",
       "    .dataframe thead th {\n",
       "        text-align: right;\n",
       "    }\n",
       "</style>\n",
       "<table border=\"1\" class=\"dataframe\">\n",
       "  <thead>\n",
       "    <tr style=\"text-align: right;\">\n",
       "      <th></th>\n",
       "      <th>Alepa</th>\n",
       "      <th>X</th>\n",
       "      <th>Y</th>\n",
       "    </tr>\n",
       "  </thead>\n",
       "  <tbody>\n",
       "    <tr>\n",
       "      <th>0</th>\n",
       "      <td>Jätkäsaari</td>\n",
       "      <td>24.918968</td>\n",
       "      <td>60.159854</td>\n",
       "    </tr>\n",
       "    <tr>\n",
       "      <th>1</th>\n",
       "      <td>Perämiehenkatu</td>\n",
       "      <td>24.934486</td>\n",
       "      <td>60.158716</td>\n",
       "    </tr>\n",
       "    <tr>\n",
       "      <th>2</th>\n",
       "      <td>Viherniemenkatu</td>\n",
       "      <td>24.953232</td>\n",
       "      <td>60.179529</td>\n",
       "    </tr>\n",
       "    <tr>\n",
       "      <th>3</th>\n",
       "      <td>Kallio</td>\n",
       "      <td>24.947155</td>\n",
       "      <td>60.185099</td>\n",
       "    </tr>\n",
       "    <tr>\n",
       "      <th>4</th>\n",
       "      <td>Mannerheimintie</td>\n",
       "      <td>24.917011</td>\n",
       "      <td>60.189060</td>\n",
       "    </tr>\n",
       "  </tbody>\n",
       "</table>\n",
       "</div>"
      ],
      "text/plain": [
       "             Alepa          X          Y\n",
       "0       Jätkäsaari  24.918968  60.159854\n",
       "1   Perämiehenkatu  24.934486  60.158716\n",
       "2  Viherniemenkatu  24.953232  60.179529\n",
       "3           Kallio  24.947155  60.185099\n",
       "4  Mannerheimintie  24.917011  60.189060"
      ]
     },
     "execution_count": 17,
     "metadata": {},
     "output_type": "execute_result"
    }
   ],
   "source": [
    "df = pd.read_csv(\"alepat.csv\")\n",
    "df.head()"
   ]
  },
  {
   "cell_type": "markdown",
   "metadata": {},
   "source": [
    "#### DataFramen funktiot"
   ]
  },
  {
   "cell_type": "markdown",
   "metadata": {},
   "source": [
    "DataFrame on suhteellisen hienostunut datatyyppi, ja sille löytyy useita eri toiminnallisuuksia. Tässä pajassa on turha käydä kaikkia läpi, ja muutenkin on parempi vain oppia etsimään [dokumentaatiosta](https://pandas.pydata.org/docs/) oikeilla hakusanoilla. Tässä on kuitenkin muutama esimerkki:\n",
    "\n",
    "- `df.head()` näyttää DataFramen ensimmäiset rivit\n",
    "- `df.tail()` näyttää DataFramen viimeiset rivit\n",
    "- `df.shape` näyttää DataFramen rivien ja sarakkeiden määrän\n",
    "- `df.columns` näyttää DataFramen sarakkeiden nimet\n",
    "- `df.index` näyttää DataFramen indeksin\n",
    "- `df.dtypes` näyttää DataFramen sarakkeiden tietotyypit\n",
    "- `df.describe()` näyttää DataFramen sarakkeiden keskiarvot, keskihajonnat, minimi- ja maksimiarvot\n",
    "- `df.info()` näyttää DataFramen sarakkeiden tietotyypit ja puuttuvien arvojen määrän\n",
    "- `df.isnull()` näyttää DataFramen puuttuvat arvot\n",
    "- `df.sum()` laskee DataFramen sarakkeiden summat\n",
    "- `df.mean()` laskee DataFramen sarakkeiden keskiarvot"
   ]
  },
  {
   "cell_type": "markdown",
   "metadata": {},
   "source": [
    "### Sarakkeet"
   ]
  },
  {
   "cell_type": "markdown",
   "metadata": {},
   "source": [
    "Data harvoin on itsessään valmista analysoitavaksi. Usein on tarpeen muokata DataFramen sarakkeita. Tämä onnistuu helposti Pandasin sarakkeiden avulla. Sarakkeet on helppo muokata esimerkiksi funktiolla `apply`, joka suorittaa annetun funktion jokaiselle DataFramen riville. Esimerkiksi seuraava koodi luo DataFramen, jossa on sarakkeet A, B, C ja D, ja lopuksi sarakkeet E ja F, joissa on sarakkeiden A ja B summat:"
   ]
  },
  {
   "cell_type": "code",
   "execution_count": 18,
   "metadata": {},
   "outputs": [
    {
     "data": {
      "text/html": [
       "<div>\n",
       "<style scoped>\n",
       "    .dataframe tbody tr th:only-of-type {\n",
       "        vertical-align: middle;\n",
       "    }\n",
       "\n",
       "    .dataframe tbody tr th {\n",
       "        vertical-align: top;\n",
       "    }\n",
       "\n",
       "    .dataframe thead th {\n",
       "        text-align: right;\n",
       "    }\n",
       "</style>\n",
       "<table border=\"1\" class=\"dataframe\">\n",
       "  <thead>\n",
       "    <tr style=\"text-align: right;\">\n",
       "      <th></th>\n",
       "      <th>A</th>\n",
       "      <th>B</th>\n",
       "      <th>C</th>\n",
       "      <th>D</th>\n",
       "    </tr>\n",
       "  </thead>\n",
       "  <tbody>\n",
       "    <tr>\n",
       "      <th>0</th>\n",
       "      <td>28</td>\n",
       "      <td>53</td>\n",
       "      <td>73</td>\n",
       "      <td>30</td>\n",
       "    </tr>\n",
       "    <tr>\n",
       "      <th>1</th>\n",
       "      <td>85</td>\n",
       "      <td>46</td>\n",
       "      <td>91</td>\n",
       "      <td>2</td>\n",
       "    </tr>\n",
       "    <tr>\n",
       "      <th>2</th>\n",
       "      <td>63</td>\n",
       "      <td>7</td>\n",
       "      <td>88</td>\n",
       "      <td>0</td>\n",
       "    </tr>\n",
       "    <tr>\n",
       "      <th>3</th>\n",
       "      <td>58</td>\n",
       "      <td>78</td>\n",
       "      <td>27</td>\n",
       "      <td>67</td>\n",
       "    </tr>\n",
       "    <tr>\n",
       "      <th>4</th>\n",
       "      <td>9</td>\n",
       "      <td>21</td>\n",
       "      <td>45</td>\n",
       "      <td>16</td>\n",
       "    </tr>\n",
       "  </tbody>\n",
       "</table>\n",
       "</div>"
      ],
      "text/plain": [
       "    A   B   C   D\n",
       "0  28  53  73  30\n",
       "1  85  46  91   2\n",
       "2  63   7  88   0\n",
       "3  58  78  27  67\n",
       "4   9  21  45  16"
      ]
     },
     "execution_count": 18,
     "metadata": {},
     "output_type": "execute_result"
    }
   ],
   "source": [
    "# Täytetään taulukko satunnaisilla luvuilla\n",
    "df = pd.DataFrame(np.random.randint(0, 100, size=(100, 4)), columns=list('ABCD'))\n",
    "df.head()"
   ]
  },
  {
   "cell_type": "code",
   "execution_count": 19,
   "metadata": {},
   "outputs": [
    {
     "data": {
      "text/html": [
       "<div>\n",
       "<style scoped>\n",
       "    .dataframe tbody tr th:only-of-type {\n",
       "        vertical-align: middle;\n",
       "    }\n",
       "\n",
       "    .dataframe tbody tr th {\n",
       "        vertical-align: top;\n",
       "    }\n",
       "\n",
       "    .dataframe thead th {\n",
       "        text-align: right;\n",
       "    }\n",
       "</style>\n",
       "<table border=\"1\" class=\"dataframe\">\n",
       "  <thead>\n",
       "    <tr style=\"text-align: right;\">\n",
       "      <th></th>\n",
       "      <th>A</th>\n",
       "      <th>B</th>\n",
       "      <th>C</th>\n",
       "      <th>D</th>\n",
       "      <th>E</th>\n",
       "    </tr>\n",
       "  </thead>\n",
       "  <tbody>\n",
       "    <tr>\n",
       "      <th>0</th>\n",
       "      <td>28</td>\n",
       "      <td>53</td>\n",
       "      <td>73</td>\n",
       "      <td>30</td>\n",
       "      <td>81</td>\n",
       "    </tr>\n",
       "    <tr>\n",
       "      <th>1</th>\n",
       "      <td>85</td>\n",
       "      <td>46</td>\n",
       "      <td>91</td>\n",
       "      <td>2</td>\n",
       "      <td>131</td>\n",
       "    </tr>\n",
       "    <tr>\n",
       "      <th>2</th>\n",
       "      <td>63</td>\n",
       "      <td>7</td>\n",
       "      <td>88</td>\n",
       "      <td>0</td>\n",
       "      <td>70</td>\n",
       "    </tr>\n",
       "    <tr>\n",
       "      <th>3</th>\n",
       "      <td>58</td>\n",
       "      <td>78</td>\n",
       "      <td>27</td>\n",
       "      <td>67</td>\n",
       "      <td>136</td>\n",
       "    </tr>\n",
       "    <tr>\n",
       "      <th>4</th>\n",
       "      <td>9</td>\n",
       "      <td>21</td>\n",
       "      <td>45</td>\n",
       "      <td>16</td>\n",
       "      <td>30</td>\n",
       "    </tr>\n",
       "  </tbody>\n",
       "</table>\n",
       "</div>"
      ],
      "text/plain": [
       "    A   B   C   D    E\n",
       "0  28  53  73  30   81\n",
       "1  85  46  91   2  131\n",
       "2  63   7  88   0   70\n",
       "3  58  78  27  67  136\n",
       "4   9  21  45  16   30"
      ]
     },
     "execution_count": 19,
     "metadata": {},
     "output_type": "execute_result"
    }
   ],
   "source": [
    "df['E'] = df['A'] + df['B']\n",
    "df.head()"
   ]
  },
  {
   "cell_type": "code",
   "execution_count": 21,
   "metadata": {},
   "outputs": [
    {
     "data": {
      "text/html": [
       "<div>\n",
       "<style scoped>\n",
       "    .dataframe tbody tr th:only-of-type {\n",
       "        vertical-align: middle;\n",
       "    }\n",
       "\n",
       "    .dataframe tbody tr th {\n",
       "        vertical-align: top;\n",
       "    }\n",
       "\n",
       "    .dataframe thead th {\n",
       "        text-align: right;\n",
       "    }\n",
       "</style>\n",
       "<table border=\"1\" class=\"dataframe\">\n",
       "  <thead>\n",
       "    <tr style=\"text-align: right;\">\n",
       "      <th></th>\n",
       "      <th>A</th>\n",
       "      <th>B</th>\n",
       "      <th>C</th>\n",
       "      <th>D</th>\n",
       "      <th>E</th>\n",
       "      <th>F</th>\n",
       "    </tr>\n",
       "  </thead>\n",
       "  <tbody>\n",
       "    <tr>\n",
       "      <th>0</th>\n",
       "      <td>28</td>\n",
       "      <td>53</td>\n",
       "      <td>73</td>\n",
       "      <td>30</td>\n",
       "      <td>81</td>\n",
       "      <td>81</td>\n",
       "    </tr>\n",
       "    <tr>\n",
       "      <th>1</th>\n",
       "      <td>85</td>\n",
       "      <td>46</td>\n",
       "      <td>91</td>\n",
       "      <td>2</td>\n",
       "      <td>131</td>\n",
       "      <td>131</td>\n",
       "    </tr>\n",
       "    <tr>\n",
       "      <th>2</th>\n",
       "      <td>63</td>\n",
       "      <td>7</td>\n",
       "      <td>88</td>\n",
       "      <td>0</td>\n",
       "      <td>70</td>\n",
       "      <td>70</td>\n",
       "    </tr>\n",
       "    <tr>\n",
       "      <th>3</th>\n",
       "      <td>58</td>\n",
       "      <td>78</td>\n",
       "      <td>27</td>\n",
       "      <td>67</td>\n",
       "      <td>136</td>\n",
       "      <td>136</td>\n",
       "    </tr>\n",
       "    <tr>\n",
       "      <th>4</th>\n",
       "      <td>9</td>\n",
       "      <td>21</td>\n",
       "      <td>45</td>\n",
       "      <td>16</td>\n",
       "      <td>30</td>\n",
       "      <td>30</td>\n",
       "    </tr>\n",
       "  </tbody>\n",
       "</table>\n",
       "</div>"
      ],
      "text/plain": [
       "    A   B   C   D    E    F\n",
       "0  28  53  73  30   81   81\n",
       "1  85  46  91   2  131  131\n",
       "2  63   7  88   0   70   70\n",
       "3  58  78  27  67  136  136\n",
       "4   9  21  45  16   30   30"
      ]
     },
     "execution_count": 21,
     "metadata": {},
     "output_type": "execute_result"
    }
   ],
   "source": [
    "df['F'] = df.apply(lambda row: row['A'] + row['B'], axis=1) # Huomaa axis=1, jolla viitataan riveihin\n",
    "df.head()"
   ]
  },
  {
   "cell_type": "markdown",
   "metadata": {},
   "source": [
    "### Indeksit\n",
    "\n",
    "DataFramen indeksit ovat DataFramen rivejä. Indeksit ovat usein numeroita, mutta ne voivat olla myös merkkijonoja. Indeksit voi muuttaa esimerkiksi funktiolla `set_index`:"
   ]
  },
  {
   "cell_type": "code",
   "execution_count": 24,
   "metadata": {},
   "outputs": [
    {
     "data": {
      "text/html": [
       "<div>\n",
       "<style scoped>\n",
       "    .dataframe tbody tr th:only-of-type {\n",
       "        vertical-align: middle;\n",
       "    }\n",
       "\n",
       "    .dataframe tbody tr th {\n",
       "        vertical-align: top;\n",
       "    }\n",
       "\n",
       "    .dataframe thead th {\n",
       "        text-align: right;\n",
       "    }\n",
       "</style>\n",
       "<table border=\"1\" class=\"dataframe\">\n",
       "  <thead>\n",
       "    <tr style=\"text-align: right;\">\n",
       "      <th></th>\n",
       "      <th>B</th>\n",
       "      <th>C</th>\n",
       "      <th>D</th>\n",
       "      <th>E</th>\n",
       "      <th>F</th>\n",
       "    </tr>\n",
       "    <tr>\n",
       "      <th>A</th>\n",
       "      <th></th>\n",
       "      <th></th>\n",
       "      <th></th>\n",
       "      <th></th>\n",
       "      <th></th>\n",
       "    </tr>\n",
       "  </thead>\n",
       "  <tbody>\n",
       "    <tr>\n",
       "      <th>1</th>\n",
       "      <td>4</td>\n",
       "      <td>7</td>\n",
       "      <td>10</td>\n",
       "      <td>5</td>\n",
       "      <td>5</td>\n",
       "    </tr>\n",
       "    <tr>\n",
       "      <th>2</th>\n",
       "      <td>5</td>\n",
       "      <td>8</td>\n",
       "      <td>11</td>\n",
       "      <td>7</td>\n",
       "      <td>7</td>\n",
       "    </tr>\n",
       "    <tr>\n",
       "      <th>3</th>\n",
       "      <td>6</td>\n",
       "      <td>9</td>\n",
       "      <td>12</td>\n",
       "      <td>9</td>\n",
       "      <td>9</td>\n",
       "    </tr>\n",
       "  </tbody>\n",
       "</table>\n",
       "</div>"
      ],
      "text/plain": [
       "   B  C   D  E  F\n",
       "A                \n",
       "1  4  7  10  5  5\n",
       "2  5  8  11  7  7\n",
       "3  6  9  12  9  9"
      ]
     },
     "execution_count": 24,
     "metadata": {},
     "output_type": "execute_result"
    }
   ],
   "source": [
    "df = pd.DataFrame({'A': [1, 2, 3], 'B': [4, 5, 6], 'C': [7, 8, 9], 'D': [10, 11, 12]})\n",
    "df['E'] = df['A'] + df['B']\n",
    "df['F'] = df['A'] + df['B']\n",
    "df = df.set_index('A')\n",
    "df.head()"
   ]
  },
  {
   "cell_type": "markdown",
   "metadata": {},
   "source": [
    "### Plottaus\n",
    "\n",
    "Pandasin DataFrame-oliot ovat hyvin yhteensopivia matplotlibin kanssa. Tämä tarkoittaa sitä, että DataFramen sarakkeita voi piirtää matplotlibin funktiolla `plot`:"
   ]
  },
  {
   "cell_type": "code",
   "execution_count": 26,
   "metadata": {},
   "outputs": [
    {
     "data": {
      "image/png": "[encoded data removed]",
      "text/plain": [
       "<matplotlib.figure.Figure at 0x7f5f51caaeb8>"
      ]
     },
     "metadata": {},
     "output_type": "display_data"
    }
   ],
   "source": [
    "import matplotlib.pyplot as plt\n",
    "df.plot()\n",
    "plt.show()"
   ]
  },
  {
   "cell_type": "markdown",
   "metadata": {},
   "source": [
    "Samanlaisen plotin voisi myös tehdä matplotlibin funktiolla `plot` syöttämällä sille DataFramen sarakkeen:"
   ]
  },
  {
   "cell_type": "code",
   "execution_count": 30,
   "metadata": {},
   "outputs": [
    {
     "data": {
      "image/png": "[encoded data removed]",
      "text/plain": [
       "<matplotlib.figure.Figure at 0x7f5f49862828>"
      ]
     },
     "metadata": {},
     "output_type": "display_data"
    }
   ],
   "source": [
    "for sarake in df.columns:\n",
    "    plt.plot(df.index, df[sarake], label=sarake)\n",
    "\n",
    "plt.legend()\n",
    "plt.show()"
   ]
  },
  {
   "cell_type": "markdown",
   "metadata": {},
   "source": [
    "Pandasista löytyy myös muita käteviä plottausfunktioita, kuten `hist` ja `boxplot`, ja Pandas toimii myös seabornin kanssa, mikä on plottausta varten luotu kirjasto (tästä lisää 14.12. pajassa)."
   ]
  }
 ],
 "metadata": {
  "kernelspec": {
   "display_name": "Python 3.6.9 64-bit",
   "language": "python",
   "name": "python3"
  },
  "language_info": {
   "codemirror_mode": {
    "name": "ipython",
    "version": 3
   },
   "file_extension": ".py",
   "mimetype": "text/x-python",
   "name": "python",
   "nbconvert_exporter": "python",
   "pygments_lexer": "ipython3",
   "version": "3.6.9 (default, Nov 25 2022, 14:10:45) \n[GCC 8.4.0]"
  },
  "orig_nbformat": 4,
  "vscode": {
   "interpreter": {
    "hash": "31f2aee4e71d21fbe5cf8b01ff0e069b9275f58929596ceb00d14d90e3e16cd6"
   }
  }
 },
 "nbformat": 4,
 "nbformat_minor": 2
}
