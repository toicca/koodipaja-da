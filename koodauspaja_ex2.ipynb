{
 "cells": [
  {
   "cell_type": "markdown",
   "metadata": {},
   "source": [
    "# Koodauspaja, harjoitus 2\n",
    "# Kimble\n",
    "\n",
    "Resonanssin opiskelijahuoneella on kerätty dataa Kimble-lautapelin nopanheitoista. Noppaa heitetään pop-o-matic-laitteen avulla, missä noppa pysyy muovikuvun sisällä. Nopan odotettu käytös on sama kuin vapaasti liikkuvan nopan. Testataan, pitääkö hypoteesi paikkansa."
   ]
  },
  {
   "attachments": {},
   "cell_type": "markdown",
   "metadata": {},
   "source": [
    "## 1.1 Datan lukeminen ja käsittely\n",
    "\n",
    "Lue koodiin taulukko tiedostosta 'kimble_tulos.csv'. Taulukko pitää sisällään kuusi saraketta ja kuusi riviä. sarake kuvaa ns. nykyistä nopan silmälukua ja rivi kuvaa kuinka monta kertaa luku esiintyi sarakkeen luvun jälkeen. Esim. sarakkeen '1' voisi lukea: \"Ykkösen jälkee ykkönen tuli 39 kertaa, kakkonen 54 kertaa, kolmonen 50 kertaa jne.\"\n",
    "\n",
    "Vinkki: Taulukko pitää nyt sisällään tiedon sarakkeidein ja rivien nimistä. Tämän takia `pd.read_csv` tarvitsee argumentit `header` ja `index_col`."
   ]
  },
  {
   "cell_type": "code",
   "execution_count": null,
   "metadata": {},
   "outputs": [],
   "source": [
    "import numpy as np\n",
    "import pandas as pd\n",
    "\n",
    "# Nopan silmäluvut\n",
    "noppa = np.array([1, 2, 3, 4, 5, 6])\n",
    "\n",
    "# Oma ratkaisu tänne:\n",
    "\n",
    "# Lue tiedosto, huomioi header (ensimmäinen rivi) ja indeksi (ensimmäinen sarake)\n",
    "df = \n",
    "\n",
    "df"
   ]
  },
  {
   "attachments": {},
   "cell_type": "markdown",
   "metadata": {},
   "source": [
    "## 1.2 Todennäköisyystaulukko\n",
    "\n",
    "Luo nyt myös taulukko, jossa esiintymismäärien sijaan soluissa on todennäköisyys.\n",
    "\n",
    "Vinkki: `df.sum()` palauttaa summan sarakkeiden arvoista"
   ]
  },
  {
   "cell_type": "code",
   "execution_count": null,
   "metadata": {},
   "outputs": [],
   "source": [
    "# Mitatut esiintymistodennäköisyydet\n",
    "\n",
    "# Oma ratkaisu tänne\n",
    "\n",
    "df_norm = \n",
    "\n",
    "df_norm"
   ]
  },
  {
   "attachments": {},
   "cell_type": "markdown",
   "metadata": {},
   "source": [
    "## 1.3 Odotettu taulukko"
   ]
  },
  {
   "attachments": {},
   "cell_type": "markdown",
   "metadata": {},
   "source": [
    "Luvut eivät ainakaan näytä jakautuvan tasaisesti, vaikka olettaisimme nopan käyttäytyvän täysin satunnaisesti. Tee 'odotettu' taulukko, joka on muodoltaan samanlainen kuin alkuperäinen, mutta jossa luvut ovat tasaisesti jakautuneet. Esim. odotetun taulukon sarake '1' on 1/6 kertaa tiedoston taulukon sarakkeen '1' lukujen summa. \n",
    "\n",
    "HUOM. Saat vain yhden luvun, mutta täytä taulukko saman muotoiseksi kuin alkuperäinen.\n",
    "\n",
    "Vinkki: Voi olla helpompaa muodostaa Numpy-taulukko, jonka avulla luot DataFramen."
   ]
  },
  {
   "cell_type": "code",
   "execution_count": null,
   "metadata": {},
   "outputs": [],
   "source": [
    "# Oma ratkaisu tänne:\n",
    "\n",
    "# Muodosta odotettu taulukko\n",
    "summa = \n",
    "odotettu = np.zeros(shape=(6,6))\n",
    "\n",
    "# Täytä taulukko odotetuilla arvoilla\n",
    "\n",
    "\n",
    "# Luo DataFrame arvoista\n",
    "odotettu =\n",
    "odotettu.head()"
   ]
  },
  {
   "attachments": {},
   "cell_type": "markdown",
   "metadata": {},
   "source": [
    "## 2.1 Taulukoiden vertailu\n",
    "\n",
    "Sinulla on nyt kaksi taulukkoa, mitatut ja odotetut arvot. Lukuja on OK-kiva katsella, mutta kuvaajia on kivempi. Muodosta aluksi histogrammi-kuvaaja vain sarakkeesta \"1\". Kuvaajassa tulisi siis näkyä kuinka usein mikäkin luku seurasi lukua \"1\". Piirrä myös punainen katkoviiva odotetun todennäköisyyden kohdalle.\n",
    "\n",
    "Vinkki: matplotibin `plt.bar(x, y)` on tähän sopiva. `plt.hlines(y, x_lower, x_upper)` piirtää y:n arvon x_lowerista x_upperiin"
   ]
  },
  {
   "cell_type": "code",
   "execution_count": null,
   "metadata": {},
   "outputs": [],
   "source": [
    "import matplotlib.pyplot as plt\n",
    "\n",
    "# Oma ratkaisu tänne\n"
   ]
  },
  {
   "attachments": {},
   "cell_type": "markdown",
   "metadata": {},
   "source": [
    "## 2.2 Kaikki kuvaajat"
   ]
  },
  {
   "attachments": {},
   "cell_type": "markdown",
   "metadata": {},
   "source": [
    "Muodosta nyt jokaiselle silmäluvulle samanlainen histogrammi kuin kohdassa 2.1 samaan kuvaajaan matplotlibin `plt.subplots()` avulla.\n",
    "\n",
    "Vinkki: Kuvaajien ulkonäköä voi parantaa kutsu `fig.tigt_layout()`, kun olet määritellyt \n",
    "\n",
    "    fig, ax = plt.subplots(3, 2, sharex=True)"
   ]
  },
  {
   "cell_type": "code",
   "execution_count": null,
   "metadata": {},
   "outputs": [],
   "source": [
    "# Oma ratkaisu tänne:\n",
    "\n",
    "# Alusta kuvaaja\n",
    "fig, ax = plt.subplots(3, 2, sharex=True)\n",
    "\n",
    "# Piirrä kuvaaja\n",
    "for rivi in range(3):\n",
    "    for sarake in range(2):\n",
    "\n",
    "\n",
    "plt.show()"
   ]
  },
  {
   "attachments": {},
   "cell_type": "markdown",
   "metadata": {},
   "source": [
    "### 2.3 2D-kuvaajat ja Seaborn\n",
    "\n",
    "Kuusi erillistä histogrammi näyttää hyvin mitatun datan ketjut. Kyseessä on kuitenkin 2D-dataa, joten kuuden yksittäisen histogrammin sijaan voisimme tehdä yhden heatmap-kuvaajan, jossa x-akselilla on nykyinen silmäluku ja y-akselilla tuleva silmäluku. Kuvaajassa olisi jokaisen pisteen kohdalla väri, jonka 'vahvuus' kuvaa todennäköisyyttä.\n",
    "\n",
    "Matplotlibissä heatmapin saa tehtyä esim. `plt.imshow()`. Piirrä Matplotlibin avulla heatmap, johon on myös kirjoitettu todennäköisyydet värien päälle (katso [täältä](https://matplotlib.org/stable/gallery/images_contours_and_fields/image_annotated_heatmap.html) apua)"
   ]
  },
  {
   "cell_type": "code",
   "execution_count": null,
   "metadata": {},
   "outputs": [],
   "source": [
    "fig, ax = plt.subplots()\n",
    "\n",
    "# Oma ratkaisu tänne:\n",
    "\n",
    "# Piirrä kuvaaja\n",
    "\n",
    "\n",
    "# Kirjoita x- ja y-akseleille nopan silmäluvut\n",
    "\n",
    "\n",
    "# Pyöräytä x-akselin silmäluvut hienostelun takia\n",
    "plt.setp(ax.get_xticklabels(), rotation=45, ha=\"left\",\n",
    "         rotation_mode=\"anchor\")\n",
    "\n",
    "# Lisää todennäköisyydet kuvaan\n",
    "\n",
    "\n",
    "ax.set_title(\"Pop-o-maticin seuraavan silmäluvun todennäköisyys\")\n",
    "\n",
    "fig.tight_layout()\n",
    "plt.show()"
   ]
  },
  {
   "attachments": {},
   "cell_type": "markdown",
   "metadata": {},
   "source": [
    "Yllä olevan kuvaajan tuotto on Matplotlibillä suhteellisen työlästä. Vähentääksesi työn määrää voit käyttää Seaborn-kirjastoa. Seaborn on Matplotlibin päälle rakennettu kirjasto, joka tekee kuvaamisesta helpompaa. Seabornin heatmap-kuvaaja on [`sns.heatmap()`](https://seaborn.pydata.org/generated/seaborn.heatmap.html) ja Matplotlibiä vastaavan kuvaajan pystyy tuottamaan muutamalla rivillä.\n",
    "\n",
    "Seabornin saa asennettua terminaalikomennolla:\n",
    "\n",
    "    pip install seaborn"
   ]
  },
  {
   "cell_type": "code",
   "execution_count": null,
   "metadata": {},
   "outputs": [],
   "source": [
    "import seaborn as sns\n",
    "# Oma ratkaisu tänne:\n",
    "\n",
    "ax.set_title(\"Pop-o-maticin seuraavan silmäluvun todennäköisyys\")\n",
    "plt.show()"
   ]
  },
  {
   "attachments": {},
   "cell_type": "markdown",
   "metadata": {},
   "source": [
    "## Bonus: 3. Numeerinen vertailu\n",
    "\n",
    "Mittaustulokset poikkeavat selvästi odotetusta, mutta _tieteellinen tutkimus_ vaatii usein tarkemman käsittelyn kuin pelkät kuvaajat. Jakaumien samankaltaisuutta pystyy vertaamaan esim. $\\chi^2$-testillä. Testin tarkempaa toimintaa sinun ei tarvitse tietää, mutta testin perusajatuksena on se, että jos jakaumat ovat samankaltaisia, niin testin tulos on pieni. Jos jakaumat ovat erilaisia, niin testin tulos on suuri. Testi palauttaa myös p-arvon, joka kertoo kuinka todennäköistä on, että jakaumat ovat samankaltaisia. Jos p-arvo on pieni, niin jakaumat ovat todennäköisesti erilaisia. Jos p-arvo on suuri, niin jakaumat ovat todennäköisesti samankaltaisia. P-arvo saa arvon väliltä 0-1.\n",
    "\n",
    "Testaa jakaumien samankaltaisuutta $\\chi^2$-testillä. Tulosta testin tulos ja p-arvo. $\\chi^2$-testi löytyy Scipy-kirjastosta [`scipy.stats.chisquare()`](https://docs.scipy.org/doc/scipy/reference/generated/scipy.stats.chisquare.html)."
   ]
  },
  {
   "cell_type": "code",
   "execution_count": null,
   "metadata": {},
   "outputs": [],
   "source": [
    "from scipy.stats import chisquare\n",
    "\n",
    "# Oma ratkaisu tänne:\n",
    "\n",
    "# Tee testi sarakkeille\n",
    "\n",
    "\n",
    "# Tee testi koko datalle\n",
    "\n",
    "\n",
    "# Tulosta tulokset\n"
   ]
  }
 ],
 "metadata": {
  "kernelspec": {
   "display_name": "Python 3.9.12 ('base')",
   "language": "python",
   "name": "python3"
  },
  "language_info": {
   "codemirror_mode": {
    "name": "ipython",
    "version": 3
   },
   "file_extension": ".py",
   "mimetype": "text/x-python",
   "name": "python",
   "nbconvert_exporter": "python",
   "pygments_lexer": "ipython3",
   "version": "3.9.12"
  },
  "orig_nbformat": 4,
  "vscode": {
   "interpreter": {
    "hash": "3807c74e09b696dbc6c0189bfd42ae844e69b6f31491de7a49127e9e1d7ed2c5"
   }
  }
 },
 "nbformat": 4,
 "nbformat_minor": 2
}
